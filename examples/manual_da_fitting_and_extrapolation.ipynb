{
 "cells": [
  {
   "cell_type": "markdown",
   "metadata": {},
   "source": [
    "# Dynamic Aperture fitting and extrapolation"
   ]
  },
  {
   "cell_type": "code",
   "execution_count": 1,
   "metadata": {
    "collapsed": true
   },
   "outputs": [],
   "source": [
    "import pandas as pd\n",
    "import numpy as np\n",
    "import matplotlib.pyplot as plt\n",
    "import time"
   ]
  },
  {
   "cell_type": "code",
   "execution_count": 2,
   "metadata": {
    "collapsed": true
   },
   "outputs": [],
   "source": [
    "import sixdesk.da as da\n",
    "import sixdesk.dist as dist\n",
    "from sixdesk.da import davst_function, get_fitting_params_distribution, beamloss, get_da_from_fit_output\n",
    "\n",
    "bl = beamloss()  # load the module to calculate the beam loss"
   ]
  },
  {
   "cell_type": "markdown",
   "metadata": {},
   "source": [
    "## Perform the fitting\n",
    "\n",
    "### Standard fitting procedure\n",
    "With an existing study load the da vs turn and run the fitting algorithm. In the simplest case when all seeds should be included, the fit is not to be performed angle by angle and the range of kappas should be the default one \n",
    "\n",
    "$$ -5 \\leq \\kappa \\leq 5 $$\n",
    "\n",
    "with a step size of $\\Delta \\kappa = 0.1$, we can simply use the davst.fit() method without any arguments. The davst class must be initialized with a path to the database file to be studied and the emittance to be considered (note that if the emittance used can differ from the one used in the sixdeskenv, the DA values will be scaled accordingly)."
   ]
  },
  {
   "cell_type": "code",
   "execution_count": 3,
   "metadata": {
    "collapsed": true
   },
   "outputs": [],
   "source": [
    "dbname = '/home/phermes/development/SixDeskDB/chrom-20.0-40.0.db'\n",
    "a = da.davst(dbname,2.2)\n",
    "a.fit()"
   ]
  },
  {
   "cell_type": "markdown",
   "metadata": {},
   "source": [
    "The fitting parameters and their uncertainties are stored in"
   ]
  },
  {
   "cell_type": "code",
   "execution_count": 4,
   "metadata": {},
   "outputs": [
    {
     "data": {
      "text/html": [
       "<div>\n",
       "<style>\n",
       "    .dataframe thead tr:only-child th {\n",
       "        text-align: right;\n",
       "    }\n",
       "\n",
       "    .dataframe thead th {\n",
       "        text-align: left;\n",
       "    }\n",
       "\n",
       "    .dataframe tbody tr th {\n",
       "        vertical-align: top;\n",
       "    }\n",
       "</style>\n",
       "<table border=\"1\" class=\"dataframe\">\n",
       "  <thead>\n",
       "    <tr style=\"text-align: right;\">\n",
       "      <th></th>\n",
       "      <th>seed</th>\n",
       "      <th>angle</th>\n",
       "      <th>emit</th>\n",
       "      <th>d</th>\n",
       "      <th>b</th>\n",
       "      <th>k</th>\n",
       "      <th>chi</th>\n",
       "      <th>derr</th>\n",
       "      <th>berr</th>\n",
       "    </tr>\n",
       "  </thead>\n",
       "  <tbody>\n",
       "    <tr>\n",
       "      <th>0</th>\n",
       "      <td>1</td>\n",
       "      <td>None</td>\n",
       "      <td>2.2</td>\n",
       "      <td>4.306541</td>\n",
       "      <td>162.044181</td>\n",
       "      <td>2.9</td>\n",
       "      <td>0.086606</td>\n",
       "      <td>0.003223</td>\n",
       "      <td>6.114471</td>\n",
       "    </tr>\n",
       "    <tr>\n",
       "      <th>1</th>\n",
       "      <td>2</td>\n",
       "      <td>None</td>\n",
       "      <td>2.2</td>\n",
       "      <td>5.307757</td>\n",
       "      <td>575.217596</td>\n",
       "      <td>4.3</td>\n",
       "      <td>0.050841</td>\n",
       "      <td>0.000960</td>\n",
       "      <td>78.250343</td>\n",
       "    </tr>\n",
       "    <tr>\n",
       "      <th>2</th>\n",
       "      <td>3</td>\n",
       "      <td>None</td>\n",
       "      <td>2.2</td>\n",
       "      <td>5.431677</td>\n",
       "      <td>913.708419</td>\n",
       "      <td>4.9</td>\n",
       "      <td>0.071171</td>\n",
       "      <td>0.001305</td>\n",
       "      <td>421.418351</td>\n",
       "    </tr>\n",
       "    <tr>\n",
       "      <th>3</th>\n",
       "      <td>4</td>\n",
       "      <td>None</td>\n",
       "      <td>2.2</td>\n",
       "      <td>4.043215</td>\n",
       "      <td>260.685354</td>\n",
       "      <td>3.2</td>\n",
       "      <td>0.221649</td>\n",
       "      <td>0.010747</td>\n",
       "      <td>46.979399</td>\n",
       "    </tr>\n",
       "    <tr>\n",
       "      <th>4</th>\n",
       "      <td>5</td>\n",
       "      <td>None</td>\n",
       "      <td>2.2</td>\n",
       "      <td>5.376183</td>\n",
       "      <td>1054.334139</td>\n",
       "      <td>4.7</td>\n",
       "      <td>0.086848</td>\n",
       "      <td>0.001886</td>\n",
       "      <td>395.342439</td>\n",
       "    </tr>\n",
       "  </tbody>\n",
       "</table>\n",
       "</div>"
      ],
      "text/plain": [
       "   seed angle  emit         d            b    k       chi      derr  \\\n",
       "0     1  None   2.2  4.306541   162.044181  2.9  0.086606  0.003223   \n",
       "1     2  None   2.2  5.307757   575.217596  4.3  0.050841  0.000960   \n",
       "2     3  None   2.2  5.431677   913.708419  4.9  0.071171  0.001305   \n",
       "3     4  None   2.2  4.043215   260.685354  3.2  0.221649  0.010747   \n",
       "4     5  None   2.2  5.376183  1054.334139  4.7  0.086848  0.001886   \n",
       "\n",
       "         berr  \n",
       "0    6.114471  \n",
       "1   78.250343  \n",
       "2  421.418351  \n",
       "3   46.979399  \n",
       "4  395.342439  "
      ]
     },
     "execution_count": 4,
     "metadata": {},
     "output_type": "execute_result"
    }
   ],
   "source": [
    "a.fit_params.head()"
   ]
  },
  {
   "cell_type": "markdown",
   "metadata": {},
   "source": [
    "We can now extrapolate the DA for a desired time using"
   ]
  },
  {
   "cell_type": "code",
   "execution_count": 5,
   "metadata": {
    "collapsed": true
   },
   "outputs": [],
   "source": [
    "a.get_extrapolated_da(minutes=30)"
   ]
  },
  {
   "cell_type": "markdown",
   "metadata": {},
   "source": [
    "The result will be stored in"
   ]
  },
  {
   "cell_type": "code",
   "execution_count": 6,
   "metadata": {},
   "outputs": [
    {
     "data": {
      "text/html": [
       "<div>\n",
       "<style>\n",
       "    .dataframe thead tr:only-child th {\n",
       "        text-align: right;\n",
       "    }\n",
       "\n",
       "    .dataframe thead th {\n",
       "        text-align: left;\n",
       "    }\n",
       "\n",
       "    .dataframe tbody tr th {\n",
       "        vertical-align: top;\n",
       "    }\n",
       "</style>\n",
       "<table border=\"1\" class=\"dataframe\">\n",
       "  <thead>\n",
       "    <tr style=\"text-align: right;\">\n",
       "      <th></th>\n",
       "      <th>seed</th>\n",
       "      <th>angle</th>\n",
       "      <th>emit</th>\n",
       "      <th>d</th>\n",
       "      <th>b</th>\n",
       "      <th>k</th>\n",
       "      <th>chi</th>\n",
       "      <th>derr</th>\n",
       "      <th>berr</th>\n",
       "      <th>exda_1800_sec</th>\n",
       "    </tr>\n",
       "  </thead>\n",
       "  <tbody>\n",
       "    <tr>\n",
       "      <th>0</th>\n",
       "      <td>1</td>\n",
       "      <td>None</td>\n",
       "      <td>2.2</td>\n",
       "      <td>4.306541</td>\n",
       "      <td>162.044181</td>\n",
       "      <td>2.9</td>\n",
       "      <td>0.086606</td>\n",
       "      <td>0.003223</td>\n",
       "      <td>6.114471</td>\n",
       "      <td>4.813437</td>\n",
       "    </tr>\n",
       "    <tr>\n",
       "      <th>1</th>\n",
       "      <td>2</td>\n",
       "      <td>None</td>\n",
       "      <td>2.2</td>\n",
       "      <td>5.307757</td>\n",
       "      <td>575.217596</td>\n",
       "      <td>4.3</td>\n",
       "      <td>0.050841</td>\n",
       "      <td>0.000960</td>\n",
       "      <td>78.250343</td>\n",
       "      <td>5.418916</td>\n",
       "    </tr>\n",
       "    <tr>\n",
       "      <th>2</th>\n",
       "      <td>3</td>\n",
       "      <td>None</td>\n",
       "      <td>2.2</td>\n",
       "      <td>5.431677</td>\n",
       "      <td>913.708419</td>\n",
       "      <td>4.9</td>\n",
       "      <td>0.071171</td>\n",
       "      <td>0.001305</td>\n",
       "      <td>421.418351</td>\n",
       "      <td>5.485220</td>\n",
       "    </tr>\n",
       "    <tr>\n",
       "      <th>3</th>\n",
       "      <td>4</td>\n",
       "      <td>None</td>\n",
       "      <td>2.2</td>\n",
       "      <td>4.043215</td>\n",
       "      <td>260.685354</td>\n",
       "      <td>3.2</td>\n",
       "      <td>0.221649</td>\n",
       "      <td>0.010747</td>\n",
       "      <td>46.979399</td>\n",
       "      <td>4.492264</td>\n",
       "    </tr>\n",
       "    <tr>\n",
       "      <th>4</th>\n",
       "      <td>5</td>\n",
       "      <td>None</td>\n",
       "      <td>2.2</td>\n",
       "      <td>5.376183</td>\n",
       "      <td>1054.334139</td>\n",
       "      <td>4.7</td>\n",
       "      <td>0.086848</td>\n",
       "      <td>0.001886</td>\n",
       "      <td>395.342439</td>\n",
       "      <td>5.468146</td>\n",
       "    </tr>\n",
       "  </tbody>\n",
       "</table>\n",
       "</div>"
      ],
      "text/plain": [
       "   seed angle  emit         d            b    k       chi      derr  \\\n",
       "0     1  None   2.2  4.306541   162.044181  2.9  0.086606  0.003223   \n",
       "1     2  None   2.2  5.307757   575.217596  4.3  0.050841  0.000960   \n",
       "2     3  None   2.2  5.431677   913.708419  4.9  0.071171  0.001305   \n",
       "3     4  None   2.2  4.043215   260.685354  3.2  0.221649  0.010747   \n",
       "4     5  None   2.2  5.376183  1054.334139  4.7  0.086848  0.001886   \n",
       "\n",
       "         berr  exda_1800_sec  \n",
       "0    6.114471       4.813437  \n",
       "1   78.250343       5.418916  \n",
       "2  421.418351       5.485220  \n",
       "3   46.979399       4.492264  \n",
       "4  395.342439       5.468146  "
      ]
     },
     "execution_count": 6,
     "metadata": {},
     "output_type": "execute_result"
    }
   ],
   "source": [
    "a.extrapolated_da.head()"
   ]
  },
  {
   "cell_type": "markdown",
   "metadata": {},
   "source": [
    "Every time the method get_extrapolated_da will be called with an un-stored extrapolation time, the DataFrame will be extended."
   ]
  },
  {
   "cell_type": "markdown",
   "metadata": {},
   "source": [
    "We can also compare the fit to the raw data "
   ]
  },
  {
   "cell_type": "code",
   "execution_count": 7,
   "metadata": {},
   "outputs": [
    {
     "data": {
      "image/png": "[encoded data removed]",
      "text/plain": [
       "<matplotlib.figure.Figure at 0x7f3e79718ac8>"
      ]
     },
     "metadata": {},
     "output_type": "display_data"
    },
    {
     "data": {
      "image/png": "[encoded data removed]",
      "text/plain": [
       "<matplotlib.figure.Figure at 0x7f3e70e0ea90>"
      ]
     },
     "metadata": {},
     "output_type": "display_data"
    }
   ],
   "source": [
    "turn = np.arange(500,100000)\n",
    "for row in a.extrapolated_da.iterrows():\n",
    "    d, b, k = row[1]['d'], row[1]['b'], row[1]['k']\n",
    "    plt.plot(turn, davst_function(turn,d,b,k))\n",
    "plt.xlabel(\"Turn\")\n",
    "plt.ylabel(r\"DA [$\\sigma$]\")\n",
    "plt.show()\n",
    "\n",
    "plt.hist(a.extrapolated_da['exda_1800_sec'])\n",
    "plt.xlabel(r\"Extrapolated DA after 30 minutes [$\\sigma$]\")\n",
    "plt.ylabel(\"Abundance\")\n",
    "plt.show()"
   ]
  },
  {
   "cell_type": "markdown",
   "metadata": {},
   "source": [
    "Or we can look at the data and the fit for a given seed"
   ]
  },
  {
   "cell_type": "code",
   "execution_count": 8,
   "metadata": {},
   "outputs": [
    {
     "data": {
      "image/png": "[encoded data removed]",
      "text/plain": [
       "<matplotlib.figure.Figure at 0x7f3e6ff5b588>"
      ]
     },
     "metadata": {},
     "output_type": "display_data"
    }
   ],
   "source": [
    "fitp = a.fit_params.iloc[0]\n",
    "\n",
    "data = a.clean_data_for_seed(1)\n",
    "plt.errorbar(data['nturnavg'], data['dawsimp'], yerr=data['dawsimperr'],fmt='.',label='data')\n",
    "turn = np.arange(500,100000)\n",
    "plt.plot(turn, davst_function(turn, fitp['d'],fitp['b'],fitp['k']),label='fit')\n",
    "plt.legend()\n",
    "plt.xlabel(\"Turn\")\n",
    "plt.ylabel(r\"DA [$\\sigma$]\")\n",
    "plt.show()"
   ]
  },
  {
   "cell_type": "markdown",
   "metadata": {},
   "source": [
    "### Options for the fitting\n",
    "Several options are available to refine the fitting or to take into account special cases."
   ]
  },
  {
   "cell_type": "code",
   "execution_count": 35,
   "metadata": {
    "collapsed": true
   },
   "outputs": [],
   "source": [
    "dbname = '/home/phermes/development/SixDeskDB/chrom-20.0-40.0.db'\n",
    "a = da.davst(dbname,2.2)"
   ]
  },
  {
   "cell_type": "markdown",
   "metadata": {},
   "source": [
    "#### Select a range of seeds\n",
    "If only certain seeds should be used, the fit method can be called with the option seed. The optional argument must be iterable."
   ]
  },
  {
   "cell_type": "code",
   "execution_count": 4,
   "metadata": {
    "collapsed": true
   },
   "outputs": [],
   "source": [
    "a.fit(seeds=[1,2,34])"
   ]
  },
  {
   "cell_type": "code",
   "execution_count": 5,
   "metadata": {},
   "outputs": [
    {
     "data": {
      "text/html": [
       "<div>\n",
       "<style>\n",
       "    .dataframe thead tr:only-child th {\n",
       "        text-align: right;\n",
       "    }\n",
       "\n",
       "    .dataframe thead th {\n",
       "        text-align: left;\n",
       "    }\n",
       "\n",
       "    .dataframe tbody tr th {\n",
       "        vertical-align: top;\n",
       "    }\n",
       "</style>\n",
       "<table border=\"1\" class=\"dataframe\">\n",
       "  <thead>\n",
       "    <tr style=\"text-align: right;\">\n",
       "      <th></th>\n",
       "      <th>seed</th>\n",
       "      <th>angle</th>\n",
       "      <th>emit</th>\n",
       "      <th>d</th>\n",
       "      <th>b</th>\n",
       "      <th>k</th>\n",
       "      <th>chi</th>\n",
       "      <th>derr</th>\n",
       "      <th>berr</th>\n",
       "    </tr>\n",
       "  </thead>\n",
       "  <tbody>\n",
       "    <tr>\n",
       "      <th>0</th>\n",
       "      <td>1</td>\n",
       "      <td>None</td>\n",
       "      <td>2.2</td>\n",
       "      <td>4.306541</td>\n",
       "      <td>162.044181</td>\n",
       "      <td>2.9</td>\n",
       "      <td>0.086606</td>\n",
       "      <td>0.003223</td>\n",
       "      <td>6.114471</td>\n",
       "    </tr>\n",
       "    <tr>\n",
       "      <th>1</th>\n",
       "      <td>2</td>\n",
       "      <td>None</td>\n",
       "      <td>2.2</td>\n",
       "      <td>5.307757</td>\n",
       "      <td>575.217596</td>\n",
       "      <td>4.3</td>\n",
       "      <td>0.050841</td>\n",
       "      <td>0.000960</td>\n",
       "      <td>78.250343</td>\n",
       "    </tr>\n",
       "    <tr>\n",
       "      <th>2</th>\n",
       "      <td>34</td>\n",
       "      <td>None</td>\n",
       "      <td>2.2</td>\n",
       "      <td>5.210577</td>\n",
       "      <td>1412.924274</td>\n",
       "      <td>4.9</td>\n",
       "      <td>0.061667</td>\n",
       "      <td>0.001022</td>\n",
       "      <td>605.703387</td>\n",
       "    </tr>\n",
       "  </tbody>\n",
       "</table>\n",
       "</div>"
      ],
      "text/plain": [
       "   seed angle  emit         d            b    k       chi      derr  \\\n",
       "0     1  None   2.2  4.306541   162.044181  2.9  0.086606  0.003223   \n",
       "1     2  None   2.2  5.307757   575.217596  4.3  0.050841  0.000960   \n",
       "2    34  None   2.2  5.210577  1412.924274  4.9  0.061667  0.001022   \n",
       "\n",
       "         berr  \n",
       "0    6.114471  \n",
       "1   78.250343  \n",
       "2  605.703387  "
      ]
     },
     "execution_count": 5,
     "metadata": {},
     "output_type": "execute_result"
    }
   ],
   "source": [
    "a.fit_params"
   ]
  },
  {
   "cell_type": "markdown",
   "metadata": {},
   "source": [
    "#### Select a range of possible values for kappa\n",
    "\n",
    "If $\\kappa$ shall be in a certain range, or if the granularity of the scan in $\\kappa$ shall be increased, we can call the davst.fit() method with an argument indicating the minimum, maximum $\\kappa$ and the step size. E.g. assume we want to fit with a step size of 0.01 instead of 0.1 and scan from 2.8 to 3.0, we can use:"
   ]
  },
  {
   "cell_type": "code",
   "execution_count": 8,
   "metadata": {
    "collapsed": true
   },
   "outputs": [],
   "source": [
    "a.fit(kappas=[2.8,3.0,0.01])"
   ]
  },
  {
   "cell_type": "code",
   "execution_count": 9,
   "metadata": {},
   "outputs": [
    {
     "data": {
      "text/html": [
       "<div>\n",
       "<style>\n",
       "    .dataframe thead tr:only-child th {\n",
       "        text-align: right;\n",
       "    }\n",
       "\n",
       "    .dataframe thead th {\n",
       "        text-align: left;\n",
       "    }\n",
       "\n",
       "    .dataframe tbody tr th {\n",
       "        vertical-align: top;\n",
       "    }\n",
       "</style>\n",
       "<table border=\"1\" class=\"dataframe\">\n",
       "  <thead>\n",
       "    <tr style=\"text-align: right;\">\n",
       "      <th></th>\n",
       "      <th>seed</th>\n",
       "      <th>angle</th>\n",
       "      <th>emit</th>\n",
       "      <th>d</th>\n",
       "      <th>b</th>\n",
       "      <th>k</th>\n",
       "      <th>chi</th>\n",
       "      <th>derr</th>\n",
       "      <th>berr</th>\n",
       "    </tr>\n",
       "  </thead>\n",
       "  <tbody>\n",
       "    <tr>\n",
       "      <th>0</th>\n",
       "      <td>1</td>\n",
       "      <td>None</td>\n",
       "      <td>2.2</td>\n",
       "      <td>4.272505</td>\n",
       "      <td>157.412344</td>\n",
       "      <td>2.87</td>\n",
       "      <td>0.086558</td>\n",
       "      <td>0.003269</td>\n",
       "      <td>5.757188</td>\n",
       "    </tr>\n",
       "    <tr>\n",
       "      <th>1</th>\n",
       "      <td>2</td>\n",
       "      <td>None</td>\n",
       "      <td>2.2</td>\n",
       "      <td>4.534872</td>\n",
       "      <td>151.554849</td>\n",
       "      <td>3.00</td>\n",
       "      <td>0.101692</td>\n",
       "      <td>0.003192</td>\n",
       "      <td>10.299138</td>\n",
       "    </tr>\n",
       "    <tr>\n",
       "      <th>2</th>\n",
       "      <td>3</td>\n",
       "      <td>None</td>\n",
       "      <td>2.2</td>\n",
       "      <td>4.625967</td>\n",
       "      <td>123.726822</td>\n",
       "      <td>3.00</td>\n",
       "      <td>0.194156</td>\n",
       "      <td>0.007310</td>\n",
       "      <td>21.186430</td>\n",
       "    </tr>\n",
       "    <tr>\n",
       "      <th>3</th>\n",
       "      <td>4</td>\n",
       "      <td>None</td>\n",
       "      <td>2.2</td>\n",
       "      <td>3.805237</td>\n",
       "      <td>213.863199</td>\n",
       "      <td>3.00</td>\n",
       "      <td>0.222930</td>\n",
       "      <td>0.011775</td>\n",
       "      <td>31.099468</td>\n",
       "    </tr>\n",
       "    <tr>\n",
       "      <th>4</th>\n",
       "      <td>5</td>\n",
       "      <td>None</td>\n",
       "      <td>2.2</td>\n",
       "      <td>4.248226</td>\n",
       "      <td>179.840541</td>\n",
       "      <td>3.00</td>\n",
       "      <td>0.193157</td>\n",
       "      <td>0.007052</td>\n",
       "      <td>21.127683</td>\n",
       "    </tr>\n",
       "  </tbody>\n",
       "</table>\n",
       "</div>"
      ],
      "text/plain": [
       "   seed angle  emit         d           b     k       chi      derr       berr\n",
       "0     1  None   2.2  4.272505  157.412344  2.87  0.086558  0.003269   5.757188\n",
       "1     2  None   2.2  4.534872  151.554849  3.00  0.101692  0.003192  10.299138\n",
       "2     3  None   2.2  4.625967  123.726822  3.00  0.194156  0.007310  21.186430\n",
       "3     4  None   2.2  3.805237  213.863199  3.00  0.222930  0.011775  31.099468\n",
       "4     5  None   2.2  4.248226  179.840541  3.00  0.193157  0.007052  21.127683"
      ]
     },
     "execution_count": 9,
     "metadata": {},
     "output_type": "execute_result"
    }
   ],
   "source": [
    "a.fit_params.head()"
   ]
  },
  {
   "cell_type": "markdown",
   "metadata": {},
   "source": [
    "#### Select integration method\n",
    "By default the davst class uses the DA calculated via integration using the weighted Simpson method (dawsimp). We can use other columns as well, e.g. dawtrap (using the trapezoidal rule). Note that both DA and DA error column must be adapted."
   ]
  },
  {
   "cell_type": "code",
   "execution_count": 12,
   "metadata": {
    "collapsed": true
   },
   "outputs": [],
   "source": [
    "a.fit(dacol='dawtrap', daerrcol='dawtraperr')"
   ]
  },
  {
   "cell_type": "markdown",
   "metadata": {},
   "source": [
    "#### Specify the horizontal axis\n",
    "\n",
    "By default nturnavg (the mean between tlossmin and nturn) is used. We can alternatively use tlossmin or nturn istead:"
   ]
  },
  {
   "cell_type": "code",
   "execution_count": 13,
   "metadata": {
    "collapsed": true
   },
   "outputs": [],
   "source": [
    "a.fit(xaxis='nturn')"
   ]
  },
  {
   "cell_type": "markdown",
   "metadata": {},
   "source": [
    "#### Save the fit parameters in the database\n",
    "The fit parameters can be directly saved into the SixDeskDB (table name: *fit_params*) and will be automatically loaded to davst.fit_params when the davst class is initialized next time."
   ]
  },
  {
   "cell_type": "code",
   "execution_count": 36,
   "metadata": {
    "collapsed": true
   },
   "outputs": [],
   "source": [
    "a.fit(save=True)"
   ]
  },
  {
   "cell_type": "markdown",
   "metadata": {},
   "source": [
    "## Include the fitting error to define a set of realistic cases\n",
    "\n",
    "We can now use the errors from the fitting and assume that the real value for d and b is normally distributed around the main value with the diagonal entries of the covariance matrix being the square of the standard deviation. Instead of using only the 60 seed we can produce alternatives by randomly sampling values for D and b with the aforementioned assumption. Let's produce 1000 realizations for each seed. Resulting in a total of 60000 fitting parameters to consider."
   ]
  },
  {
   "cell_type": "code",
   "execution_count": 5,
   "metadata": {
    "collapsed": true
   },
   "outputs": [],
   "source": [
    "a.get_extrapolated_da(minutes=30, realizations=1000)\n",
    "a.get_extrapolated_da(minutes=60)\n",
    "a.get_extrapolated_da(minutes=120)\n",
    "a.get_extrapolated_da(minutes=240)\n",
    "a.get_extrapolated_da(minutes=480)"
   ]
  },
  {
   "cell_type": "code",
   "execution_count": 13,
   "metadata": {},
   "outputs": [
    {
     "data": {
      "text/plain": [
       "60000"
      ]
     },
     "execution_count": 13,
     "metadata": {},
     "output_type": "execute_result"
    }
   ],
   "source": [
    "len(a.extrapolated_da)"
   ]
  },
  {
   "cell_type": "markdown",
   "metadata": {},
   "source": [
    "The extrapolated DA values for each realization are now stored in a.extrapolated_da"
   ]
  },
  {
   "cell_type": "code",
   "execution_count": 14,
   "metadata": {},
   "outputs": [
    {
     "data": {
      "text/html": [
       "<div>\n",
       "<style>\n",
       "    .dataframe thead tr:only-child th {\n",
       "        text-align: right;\n",
       "    }\n",
       "\n",
       "    .dataframe thead th {\n",
       "        text-align: left;\n",
       "    }\n",
       "\n",
       "    .dataframe tbody tr th {\n",
       "        vertical-align: top;\n",
       "    }\n",
       "</style>\n",
       "<table border=\"1\" class=\"dataframe\">\n",
       "  <thead>\n",
       "    <tr style=\"text-align: right;\">\n",
       "      <th></th>\n",
       "      <th>seed</th>\n",
       "      <th>angle</th>\n",
       "      <th>emit</th>\n",
       "      <th>d</th>\n",
       "      <th>b</th>\n",
       "      <th>k</th>\n",
       "      <th>chi</th>\n",
       "      <th>derr</th>\n",
       "      <th>berr</th>\n",
       "      <th>exda_1800_sec</th>\n",
       "      <th>exda_3600_sec</th>\n",
       "      <th>exda_7200_sec</th>\n",
       "      <th>exda_14400_sec</th>\n",
       "      <th>exda_28800_sec</th>\n",
       "    </tr>\n",
       "  </thead>\n",
       "  <tbody>\n",
       "    <tr>\n",
       "      <th>0</th>\n",
       "      <td>1</td>\n",
       "      <td>None</td>\n",
       "      <td>2.2</td>\n",
       "      <td>4.310746</td>\n",
       "      <td>162.139711</td>\n",
       "      <td>2.9</td>\n",
       "      <td>0</td>\n",
       "      <td>0</td>\n",
       "      <td>0</td>\n",
       "      <td>4.817941</td>\n",
       "      <td>4.761899</td>\n",
       "      <td>4.713877</td>\n",
       "      <td>4.672485</td>\n",
       "      <td>4.636611</td>\n",
       "    </tr>\n",
       "    <tr>\n",
       "      <th>1</th>\n",
       "      <td>1</td>\n",
       "      <td>None</td>\n",
       "      <td>2.2</td>\n",
       "      <td>4.306586</td>\n",
       "      <td>155.753432</td>\n",
       "      <td>2.9</td>\n",
       "      <td>0</td>\n",
       "      <td>0</td>\n",
       "      <td>0</td>\n",
       "      <td>4.793804</td>\n",
       "      <td>4.739969</td>\n",
       "      <td>4.693839</td>\n",
       "      <td>4.654077</td>\n",
       "      <td>4.619617</td>\n",
       "    </tr>\n",
       "    <tr>\n",
       "      <th>2</th>\n",
       "      <td>1</td>\n",
       "      <td>None</td>\n",
       "      <td>2.2</td>\n",
       "      <td>4.306000</td>\n",
       "      <td>148.949555</td>\n",
       "      <td>2.9</td>\n",
       "      <td>0</td>\n",
       "      <td>0</td>\n",
       "      <td>0</td>\n",
       "      <td>4.771935</td>\n",
       "      <td>4.720452</td>\n",
       "      <td>4.676336</td>\n",
       "      <td>4.638311</td>\n",
       "      <td>4.605357</td>\n",
       "    </tr>\n",
       "    <tr>\n",
       "      <th>3</th>\n",
       "      <td>1</td>\n",
       "      <td>None</td>\n",
       "      <td>2.2</td>\n",
       "      <td>4.304794</td>\n",
       "      <td>158.300786</td>\n",
       "      <td>2.9</td>\n",
       "      <td>0</td>\n",
       "      <td>0</td>\n",
       "      <td>0</td>\n",
       "      <td>4.799981</td>\n",
       "      <td>4.745266</td>\n",
       "      <td>4.698381</td>\n",
       "      <td>4.657969</td>\n",
       "      <td>4.622945</td>\n",
       "    </tr>\n",
       "    <tr>\n",
       "      <th>4</th>\n",
       "      <td>1</td>\n",
       "      <td>None</td>\n",
       "      <td>2.2</td>\n",
       "      <td>4.301383</td>\n",
       "      <td>148.828923</td>\n",
       "      <td>2.9</td>\n",
       "      <td>0</td>\n",
       "      <td>0</td>\n",
       "      <td>0</td>\n",
       "      <td>4.766940</td>\n",
       "      <td>4.715499</td>\n",
       "      <td>4.671419</td>\n",
       "      <td>4.633425</td>\n",
       "      <td>4.600497</td>\n",
       "    </tr>\n",
       "  </tbody>\n",
       "</table>\n",
       "</div>"
      ],
      "text/plain": [
       "   seed angle  emit         d           b    k  chi  derr  berr  \\\n",
       "0     1  None   2.2  4.310746  162.139711  2.9    0     0     0   \n",
       "1     1  None   2.2  4.306586  155.753432  2.9    0     0     0   \n",
       "2     1  None   2.2  4.306000  148.949555  2.9    0     0     0   \n",
       "3     1  None   2.2  4.304794  158.300786  2.9    0     0     0   \n",
       "4     1  None   2.2  4.301383  148.828923  2.9    0     0     0   \n",
       "\n",
       "   exda_1800_sec  exda_3600_sec  exda_7200_sec  exda_14400_sec  exda_28800_sec  \n",
       "0       4.817941       4.761899       4.713877        4.672485        4.636611  \n",
       "1       4.793804       4.739969       4.693839        4.654077        4.619617  \n",
       "2       4.771935       4.720452       4.676336        4.638311        4.605357  \n",
       "3       4.799981       4.745266       4.698381        4.657969        4.622945  \n",
       "4       4.766940       4.715499       4.671419        4.633425        4.600497  "
      ]
     },
     "execution_count": 14,
     "metadata": {},
     "output_type": "execute_result"
    }
   ],
   "source": [
    "a.extrapolated_da.head()"
   ]
  },
  {
   "cell_type": "markdown",
   "metadata": {},
   "source": [
    "The extrapolated DA can (and should!) be also saved to the database. We can do so by using the save option. In full analogy to the fit method, the extrapolated DA table will be automatically loaded from the database when davst is initialized for the db next time."
   ]
  },
  {
   "cell_type": "code",
   "execution_count": null,
   "metadata": {
    "collapsed": true
   },
   "outputs": [],
   "source": [
    "a.get_extrapolated_da(minutes=30, save=True)"
   ]
  },
  {
   "cell_type": "markdown",
   "metadata": {},
   "source": [
    "## Evolution of the DA with increasing turn numbers"
   ]
  },
  {
   "cell_type": "code",
   "execution_count": 41,
   "metadata": {
    "collapsed": true
   },
   "outputs": [],
   "source": [
    "for time in [1,10,100,1000,10000]:\n",
    "    a.get_extrapolated_da(seconds=time)"
   ]
  },
  {
   "cell_type": "code",
   "execution_count": 44,
   "metadata": {},
   "outputs": [
    {
     "data": {
      "image/png": "[encoded data removed]",
      "text/plain": [
       "<matplotlib.figure.Figure at 0x7f5cf81cc780>"
      ]
     },
     "metadata": {},
     "output_type": "display_data"
    }
   ],
   "source": [
    "from matplotlib.ticker import NullFormatter\n",
    "\n",
    "fig = plt.figure(figsize=[10,6])\n",
    "font = {'family' : 'normal',\n",
    "        'weight' : 'normal',\n",
    "        'size'   : 15}\n",
    "plt.style.use('ggplot')\n",
    "\n",
    "nullfmt = NullFormatter()         # no labels\n",
    "\n",
    "left, width = 0.1, 0.65\n",
    "bottom, height = 0.1, 0.65\n",
    "bottom_h = left_h = left + width + 0.02\n",
    "\n",
    "rect_scatter = [left, bottom, width, height]\n",
    "rect_histy = [left_h, bottom, 0.4, height]\n",
    "\n",
    "axdavst = plt.axes(rect_scatter)\n",
    "axHisty = plt.axes(rect_histy)\n",
    "\n",
    "axHisty.yaxis.set_major_formatter(nullfmt)\n",
    "\n",
    "\n",
    "#### ANALYSIS PART\n",
    "\n",
    "for i in range(0,60):\n",
    "    d,b,k = a.fit_params[['d','b','k']].iloc[i]\n",
    "    turns = np.arange(10000, a.revf*10000,1000)\n",
    "    times = turns/a.revf\n",
    "    axdavst.plot(times,davst_function(turns,d,b,k), 'g-', label='Fit')\n",
    "    turns = np.arange(100,10000)\n",
    "    times = turns/a.revf\n",
    "    axdavst.plot(times,davst_function(turns,d,b,k), 'g-')\n",
    "\n",
    "for time in [1,10,100,1000,10000]:\n",
    "    axHisty.hist(a.extrapolated_da['exda_{0}_sec'.format(time)],\n",
    "                 bins=10,alpha=0.5,label='{0} sec'.format(time), orientation='horizontal',normed=True)\n",
    "    \n",
    "# for j in range(3,8):\n",
    "#     axHisty.hist(ex_da[j],bins=10,alpha=0.5,label='1e{0} turns'.format(j), orientation='horizontal',normed=True)\n",
    "\n",
    "# axdavst.set_xlim(1e2,a.revf*3600)\n",
    "axdavst.set_ylim(4,12)\n",
    "\n",
    "axHisty.set_xlabel(\"Counts\")\n",
    "axHisty.set_xlim(0.01,2.7)\n",
    "axHisty.set_ylim(axdavst.get_ylim())\n",
    "\n",
    "axdavst.set_xscale('log')\n",
    "axHisty.legend()\n",
    "axdavst.set_xlabel(\"Time [sec]\")\n",
    "axdavst.set_ylabel(r\"Dynamic Aperture Fit [$\\sigma$]\")\n",
    "\n",
    "# for i in range(3, 4):\n",
    "#     axdavst.plot([10**i, 1e8], [np.min(ex_da[i]), np.min(ex_da[i])], 'k--', lw=1)\n",
    "#     axdavst.plot([10**i, 1e8], [np.max(ex_da[i]), np.max(ex_da[i])], 'k--', lw=1)\n",
    "\n",
    "axdavst.grid(which='b')\n",
    "plt.show()\n"
   ]
  },
  {
   "cell_type": "markdown",
   "metadata": {},
   "source": [
    "## Calculation of Beam Loss\n",
    "With the fitting parameters we can use the loss_from_fit_params method of the beamloss class to get the distribution of possible beam loss:"
   ]
  },
  {
   "cell_type": "code",
   "execution_count": 48,
   "metadata": {
    "collapsed": true
   },
   "outputs": [],
   "source": [
    "loss       = bl.loss_from_fit_params(a.fit_params, time=12*60*60)"
   ]
  },
  {
   "cell_type": "code",
   "execution_count": 55,
   "metadata": {},
   "outputs": [
    {
     "data": {
      "text/plain": [
       "89520"
      ]
     },
     "execution_count": 55,
     "metadata": {},
     "output_type": "execute_result"
    }
   ],
   "source": [
    "len(loss)"
   ]
  },
  {
   "cell_type": "markdown",
   "metadata": {},
   "source": [
    "If we want to use the different realizations we have to use the a.extrapolated_da DataFrame."
   ]
  },
  {
   "cell_type": "code",
   "execution_count": 57,
   "metadata": {
    "collapsed": true
   },
   "outputs": [],
   "source": [
    "a.get_extrapolated_da(minutes=30,realizations=1000)"
   ]
  },
  {
   "cell_type": "code",
   "execution_count": 58,
   "metadata": {
    "collapsed": true
   },
   "outputs": [],
   "source": [
    "loss       = bl.loss_from_fit_params(a.extrapolated_da, time=12*60*60)"
   ]
  },
  {
   "cell_type": "code",
   "execution_count": 59,
   "metadata": {},
   "outputs": [
    {
     "data": {
      "text/plain": [
       "array([ 0.00552972,  0.00657851,  0.00768723, ...,  0.00728384,\n",
       "        0.00708151,  0.00720487])"
      ]
     },
     "execution_count": 59,
     "metadata": {},
     "output_type": "execute_result"
    }
   ],
   "source": [
    "loss"
   ]
  },
  {
   "cell_type": "code",
   "execution_count": 60,
   "metadata": {},
   "outputs": [
    {
     "data": {
      "text/plain": [
       "89520000"
      ]
     },
     "execution_count": 60,
     "metadata": {},
     "output_type": "execute_result"
    }
   ],
   "source": [
    "len(loss)"
   ]
  },
  {
   "cell_type": "code",
   "execution_count": 61,
   "metadata": {},
   "outputs": [
    {
     "data": {
      "text/plain": [
       "count    8.952000e+07\n",
       "mean     6.840857e-03\n",
       "std      2.043335e-03\n",
       "min      1.558510e-03\n",
       "25%      5.384390e-03\n",
       "50%      6.874820e-03\n",
       "75%      8.153360e-03\n",
       "max      1.605730e-02\n",
       "dtype: float64"
      ]
     },
     "execution_count": 61,
     "metadata": {},
     "output_type": "execute_result"
    }
   ],
   "source": [
    "pd.Series(loss).describe()"
   ]
  },
  {
   "cell_type": "code",
   "execution_count": 63,
   "metadata": {},
   "outputs": [
    {
     "data": {
      "image/png": "[encoded data removed]",
      "text/plain": [
       "<matplotlib.figure.Figure at 0x7f5d03c254e0>"
      ]
     },
     "metadata": {},
     "output_type": "display_data"
    }
   ],
   "source": [
    "loss       = bl.loss_from_fit_params(a.fit_params, time=1)\n",
    "plt.hist(loss,bins=100,normed=True, label='1 sec',alpha=0.5)\n",
    "\n",
    "loss       = bl.loss_from_fit_params(a.fit_params, time=30*60)\n",
    "plt.hist(loss,bins=100,normed=True, label='30 min', alpha=0.5)\n",
    "\n",
    "loss       = bl.loss_from_fit_params(a.fit_params, time=12*60*60)\n",
    "plt.hist(loss,bins=100,normed=True, label='12 hrs',alpha=0.5)\n",
    "\n",
    "plt.legend()\n",
    "plt.xlabel(\"Beam loss\")\n",
    "plt.ylabel(\"Counts\")\n",
    "plt.show()"
   ]
  },
  {
   "cell_type": "markdown",
   "metadata": {},
   "source": [
    "Instead of computing new fit parameters with the different realizations, the loss_from_fit_params method allows to parse the number of realizations directly. In that case we can skip the step of calculating the different realizations of the fit_parameters beforehand. Of course now we use the fit parameters for the individiual seeds now: a.fit."
   ]
  },
  {
   "cell_type": "code",
   "execution_count": 64,
   "metadata": {
    "collapsed": true
   },
   "outputs": [],
   "source": [
    "loss       = bl.loss_from_fit_params(a.fit_params, time=12*60*60, realizations=1000)"
   ]
  },
  {
   "cell_type": "code",
   "execution_count": 65,
   "metadata": {},
   "outputs": [
    {
     "data": {
      "image/png": "[encoded data removed]",
      "text/plain": [
       "<matplotlib.figure.Figure at 0x7f5cf7b25400>"
      ]
     },
     "metadata": {},
     "output_type": "display_data"
    }
   ],
   "source": [
    "plt.hist(loss,bins=100,normed=True, label='12 hrs')\n",
    "\n",
    "plt.legend()\n",
    "plt.xlabel(\"Beam loss\")\n",
    "plt.ylabel(\"Counts\")\n",
    "plt.show()"
   ]
  },
  {
   "cell_type": "markdown",
   "metadata": {},
   "source": [
    "Check how long it takes to calculate the beam loss for different realizations"
   ]
  },
  {
   "cell_type": "code",
   "execution_count": 68,
   "metadata": {},
   "outputs": [
    {
     "name": "stdout",
     "output_type": "stream",
     "text": [
      "1 Realizations: 0.04655098915100098 seconds\n",
      "10 Realizations: 0.08280754089355469 seconds\n",
      "100 Realizations: 0.6537742614746094 seconds\n",
      "200 Realizations: 1.618330717086792 seconds\n",
      "500 Realizations: 3.50390887260437 seconds\n",
      "1000 Realizations: 8.457242727279663 seconds\n"
     ]
    }
   ],
   "source": [
    "import time\n",
    "for realizations in [1, 10, 100, 200, 500, 1000]:\n",
    "    t0 = time.time()\n",
    "    loss       = bl.loss_from_fit_params(a.fit_params, time=12*60*60, realizations=realizations)\n",
    "    print(\"{0} Realizations: {1} seconds\".format(realizations,time.time()-t0))"
   ]
  }
 ],
 "metadata": {
  "kernelspec": {
   "display_name": "Python 3",
   "language": "python",
   "name": "python3"
  },
  "language_info": {
   "codemirror_mode": {
    "name": "ipython",
    "version": 3
   },
   "file_extension": ".py",
   "mimetype": "text/x-python",
   "name": "python",
   "nbconvert_exporter": "python",
   "pygments_lexer": "ipython3",
   "version": "3.6.1"
  }
 },
 "nbformat": 4,
 "nbformat_minor": 2
}
