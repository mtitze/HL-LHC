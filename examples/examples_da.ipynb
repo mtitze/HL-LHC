{
 "cells": [
  {
   "cell_type": "markdown",
   "metadata": {},
   "source": [
    "# Examples for DA functionalities\n",
    "\n",
    "This notebook gives an overview of python functions implemented for the analysis of dynamic aperture data from SixDesk.\n",
    "\n",
    "## Initialize"
   ]
  },
  {
   "cell_type": "code",
   "execution_count": 1,
   "metadata": {
    "collapsed": true
   },
   "outputs": [],
   "source": [
    "import pandas as pd\n",
    "import numpy as np\n",
    "import matplotlib.pyplot as plt\n",
    "from sixdesk.da import * "
   ]
  },
  {
   "cell_type": "markdown",
   "metadata": {},
   "source": [
    "# Dynamic aperture vs. angle from SixDeskDB\n",
    "## Loading the data\n",
    "\n",
    "This assumes that the sixdeskdb was already populated with the DA data:\n",
    "\n",
    "    ./sixdb database.db da"
   ]
  },
  {
   "cell_type": "markdown",
   "metadata": {},
   "source": [
    "Load the data using the davsang class from the sixdesk module. "
   ]
  },
  {
   "cell_type": "code",
   "execution_count": 2,
   "metadata": {
    "collapsed": true
   },
   "outputs": [],
   "source": [
    "data = davsang('HLLHC_col_B_1_MBH10M_1', directory = '/home/phermes/development/SixDeskDB/')"
   ]
  },
  {
   "cell_type": "markdown",
   "metadata": {},
   "source": [
    "We can check the basic properties of the study. Let's look at the emittance used and  what value the maximum da in the SixDesk scan was set to."
   ]
  },
  {
   "cell_type": "code",
   "execution_count": 3,
   "metadata": {},
   "outputs": [
    {
     "name": "stdout",
     "output_type": "stream",
     "text": [
      "emit=2.5, maxda=16\n"
     ]
    }
   ],
   "source": [
    "print('emit={0}, maxda={1}'.format(data.emit, data.max_da))"
   ]
  },
  {
   "cell_type": "code",
   "execution_count": 4,
   "metadata": {},
   "outputs": [
    {
     "data": {
      "text/html": [
       "<div>\n",
       "<style>\n",
       "    .dataframe thead tr:only-child th {\n",
       "        text-align: right;\n",
       "    }\n",
       "\n",
       "    .dataframe thead th {\n",
       "        text-align: left;\n",
       "    }\n",
       "\n",
       "    .dataframe tbody tr th {\n",
       "        vertical-align: top;\n",
       "    }\n",
       "</style>\n",
       "<table border=\"1\" class=\"dataframe\">\n",
       "  <thead>\n",
       "    <tr style=\"text-align: right;\">\n",
       "      <th></th>\n",
       "      <th>seed</th>\n",
       "      <th>angle</th>\n",
       "      <th>da</th>\n",
       "    </tr>\n",
       "  </thead>\n",
       "  <tbody>\n",
       "    <tr>\n",
       "      <th>0</th>\n",
       "      <td>1.0</td>\n",
       "      <td>7.5</td>\n",
       "      <td>13.034521</td>\n",
       "    </tr>\n",
       "    <tr>\n",
       "      <th>1</th>\n",
       "      <td>2.0</td>\n",
       "      <td>7.5</td>\n",
       "      <td>13.624918</td>\n",
       "    </tr>\n",
       "    <tr>\n",
       "      <th>2</th>\n",
       "      <td>3.0</td>\n",
       "      <td>7.5</td>\n",
       "      <td>13.843194</td>\n",
       "    </tr>\n",
       "    <tr>\n",
       "      <th>3</th>\n",
       "      <td>4.0</td>\n",
       "      <td>7.5</td>\n",
       "      <td>13.862092</td>\n",
       "    </tr>\n",
       "    <tr>\n",
       "      <th>4</th>\n",
       "      <td>5.0</td>\n",
       "      <td>7.5</td>\n",
       "      <td>13.754070</td>\n",
       "    </tr>\n",
       "  </tbody>\n",
       "</table>\n",
       "</div>"
      ],
      "text/plain": [
       "   seed  angle         da\n",
       "0   1.0    7.5  13.034521\n",
       "1   2.0    7.5  13.624918\n",
       "2   3.0    7.5  13.843194\n",
       "3   4.0    7.5  13.862092\n",
       "4   5.0    7.5  13.754070"
      ]
     },
     "execution_count": 4,
     "metadata": {},
     "output_type": "execute_result"
    }
   ],
   "source": [
    "data.dynap.head()"
   ]
  },
  {
   "cell_type": "code",
   "execution_count": 5,
   "metadata": {},
   "outputs": [
    {
     "data": {
      "text/html": [
       "<div>\n",
       "<style>\n",
       "    .dataframe thead tr:only-child th {\n",
       "        text-align: right;\n",
       "    }\n",
       "\n",
       "    .dataframe thead th {\n",
       "        text-align: left;\n",
       "    }\n",
       "\n",
       "    .dataframe tbody tr th {\n",
       "        vertical-align: top;\n",
       "    }\n",
       "</style>\n",
       "<table border=\"1\" class=\"dataframe\">\n",
       "  <thead>\n",
       "    <tr style=\"text-align: right;\">\n",
       "      <th></th>\n",
       "      <th>angle</th>\n",
       "      <th>minda</th>\n",
       "      <th>maxda</th>\n",
       "      <th>avgda</th>\n",
       "    </tr>\n",
       "  </thead>\n",
       "  <tbody>\n",
       "    <tr>\n",
       "      <th>0</th>\n",
       "      <td>7.5</td>\n",
       "      <td>13.034521</td>\n",
       "      <td>14.137371</td>\n",
       "      <td>13.713896</td>\n",
       "    </tr>\n",
       "    <tr>\n",
       "      <th>1</th>\n",
       "      <td>15.0</td>\n",
       "      <td>13.103471</td>\n",
       "      <td>14.255875</td>\n",
       "      <td>13.748608</td>\n",
       "    </tr>\n",
       "    <tr>\n",
       "      <th>2</th>\n",
       "      <td>22.5</td>\n",
       "      <td>13.103462</td>\n",
       "      <td>14.317018</td>\n",
       "      <td>13.935158</td>\n",
       "    </tr>\n",
       "    <tr>\n",
       "      <th>3</th>\n",
       "      <td>30.0</td>\n",
       "      <td>14.230091</td>\n",
       "      <td>14.743193</td>\n",
       "      <td>14.494911</td>\n",
       "    </tr>\n",
       "    <tr>\n",
       "      <th>4</th>\n",
       "      <td>37.5</td>\n",
       "      <td>13.724180</td>\n",
       "      <td>15.388954</td>\n",
       "      <td>14.955695</td>\n",
       "    </tr>\n",
       "  </tbody>\n",
       "</table>\n",
       "</div>"
      ],
      "text/plain": [
       "   angle      minda      maxda      avgda\n",
       "0    7.5  13.034521  14.137371  13.713896\n",
       "1   15.0  13.103471  14.255875  13.748608\n",
       "2   22.5  13.103462  14.317018  13.935158\n",
       "3   30.0  14.230091  14.743193  14.494911\n",
       "4   37.5  13.724180  15.388954  14.955695"
      ]
     },
     "execution_count": 5,
     "metadata": {},
     "output_type": "execute_result"
    }
   ],
   "source": [
    "data.dasum.head()"
   ]
  },
  {
   "cell_type": "markdown",
   "metadata": {},
   "source": [
    "The davsang class checks the integrety of the data, throwing an error message if it is corrupted:\n"
   ]
  },
  {
   "cell_type": "code",
   "execution_count": 6,
   "metadata": {},
   "outputs": [
    {
     "name": "stdout",
     "output_type": "stream",
     "text": [
      "Found 2 bad jobs for study HLLHC_col_B_1_MBH10M_0\n",
      "All bad seeds are saved in self.badseeds\n"
     ]
    }
   ],
   "source": [
    "data = davsang('HLLHC_col_B_1_MBH10M_0', directory = '/home/phermes/development/SixDeskDB/')"
   ]
  },
  {
   "cell_type": "markdown",
   "metadata": {},
   "source": [
    "## Plot the data\n",
    "\n",
    "The plotDA functionality can be used to perform standardized plots of the DA. The upper and lower bounds of the error bars correspond to the max./min DA that was simulated for the given angle. The bullet corresponds to the mean value of the DA."
   ]
  },
  {
   "cell_type": "code",
   "execution_count": 7,
   "metadata": {
    "collapsed": true
   },
   "outputs": [],
   "source": [
    "data = davsang('HLLHC_col_B_1_MBH10M_1', directory = '/home/phermes/development/SixDeskDB/')"
   ]
  },
  {
   "cell_type": "code",
   "execution_count": 8,
   "metadata": {},
   "outputs": [
    {
     "data": {
      "image/png": "[encoded data removed]",
      "text/plain": [
       "<matplotlib.figure.Figure at 0x7fd4a6d30e10>"
      ]
     },
     "metadata": {},
     "output_type": "display_data"
    }
   ],
   "source": [
    "data.plotDA()\n",
    "plt.show()"
   ]
  },
  {
   "cell_type": "code",
   "execution_count": 9,
   "metadata": {},
   "outputs": [
    {
     "data": {
      "image/png": "[encoded data removed]",
      "text/plain": [
       "<matplotlib.figure.Figure at 0x7fd4a329bbe0>"
      ]
     },
     "metadata": {},
     "output_type": "display_data"
    }
   ],
   "source": [
    "fig = plt.figure(figsize=[6,4])\n",
    "ax1 = fig.add_subplot(111)\n",
    "data.plotDA(axis=ax1)\n",
    "plt.show()"
   ]
  },
  {
   "cell_type": "markdown",
   "metadata": {},
   "source": [
    "# Dynamic aperture vs. turn from SixDeskDB\n",
    "\n",
    "The functionality for the fitting is provided by the davst class in the sixdesk module.\n",
    "\n",
    "## Plot the DA vs. turn Data from SixDeskDB"
   ]
  },
  {
   "cell_type": "code",
   "execution_count": 10,
   "metadata": {
    "collapsed": true
   },
   "outputs": [],
   "source": [
    "a = davst('/home/phermes/development/SixDeskDB/chromB2_QP_0_OC_0.db')"
   ]
  },
  {
   "cell_type": "code",
   "execution_count": 11,
   "metadata": {},
   "outputs": [
    {
     "data": {
      "image/png": "[encoded data removed]",
      "text/plain": [
       "<matplotlib.figure.Figure at 0x7fd4a2905710>"
      ]
     },
     "metadata": {},
     "output_type": "display_data"
    }
   ],
   "source": [
    "a.plot_simulated_davst(seed=5)\n",
    "plt.ylim(14.8,15.1)\n",
    "plt.show()"
   ]
  },
  {
   "cell_type": "markdown",
   "metadata": {},
   "source": [
    "## Perform the fitting for one seed\n",
    "Fit the data and get back the fit parameters"
   ]
  },
  {
   "cell_type": "code",
   "execution_count": 12,
   "metadata": {
    "collapsed": true
   },
   "outputs": [],
   "source": [
    "_,d,b,k,exda = a.fit_single_seed(-5,5,0.5,5)"
   ]
  },
  {
   "cell_type": "markdown",
   "metadata": {},
   "source": [
    "Plot the data together with the fit"
   ]
  },
  {
   "cell_type": "code",
   "execution_count": 19,
   "metadata": {},
   "outputs": [
    {
     "data": {
      "image/png": "[encoded data removed]",
      "text/plain": [
       "<matplotlib.figure.Figure at 0x7fd4a2817f60>"
      ]
     },
     "metadata": {},
     "output_type": "display_data"
    }
   ],
   "source": [
    "x = np.arange(100,100000,100)\n",
    "plt.plot(x,a.dafunction(x,d,b,k),label='Data')\n",
    "a.plot_simulated_davst(seed=5)\n",
    "plt.legend()\n",
    "plt.grid()\n",
    "plt.show()"
   ]
  },
  {
   "cell_type": "markdown",
   "metadata": {},
   "source": [
    "Plot data and fit for 30 minutes (20241900 turns)"
   ]
  },
  {
   "cell_type": "code",
   "execution_count": 21,
   "metadata": {},
   "outputs": [
    {
     "data": {
      "image/png": "[encoded data removed]",
      "text/plain": [
       "<matplotlib.figure.Figure at 0x7fd4a2828da0>"
      ]
     },
     "metadata": {},
     "output_type": "display_data"
    }
   ],
   "source": [
    "x = np.arange(100,20241900,100)\n",
    "plt.plot(x,a.dafunction(x,d,b,k),label='Data')\n",
    "a.plot_simulated_davst(seed=5)\n",
    "plt.legend()\n",
    "plt.grid()\n",
    "plt.show()"
   ]
  },
  {
   "cell_type": "markdown",
   "metadata": {},
   "source": [
    "## Perform the fitting for all seeds"
   ]
  },
  {
   "cell_type": "code",
   "execution_count": 50,
   "metadata": {
    "collapsed": true
   },
   "outputs": [],
   "source": [
    "a  = davst('/home/phermes/development/SixDeskDB/chromB2_QP_0_OC_0.db')\n",
    "df = a.fitda(1,10,0.5,steps=1,verbose=False)"
   ]
  },
  {
   "cell_type": "markdown",
   "metadata": {},
   "source": [
    "We get back a table including the fit parameters for the individual seeds"
   ]
  },
  {
   "cell_type": "code",
   "execution_count": 46,
   "metadata": {},
   "outputs": [
    {
     "data": {
      "text/html": [
       "<div>\n",
       "<style>\n",
       "    .dataframe thead tr:only-child th {\n",
       "        text-align: right;\n",
       "    }\n",
       "\n",
       "    .dataframe thead th {\n",
       "        text-align: left;\n",
       "    }\n",
       "\n",
       "    .dataframe tbody tr th {\n",
       "        vertical-align: top;\n",
       "    }\n",
       "</style>\n",
       "<table border=\"1\" class=\"dataframe\">\n",
       "  <thead>\n",
       "    <tr style=\"text-align: right;\">\n",
       "      <th></th>\n",
       "      <th>seed</th>\n",
       "      <th>d</th>\n",
       "      <th>b</th>\n",
       "      <th>k</th>\n",
       "      <th>exda</th>\n",
       "    </tr>\n",
       "  </thead>\n",
       "  <tbody>\n",
       "    <tr>\n",
       "      <th>0</th>\n",
       "      <td>1</td>\n",
       "      <td>13.540322</td>\n",
       "      <td>5.067846</td>\n",
       "      <td>1.0</td>\n",
       "      <td>14.233953</td>\n",
       "    </tr>\n",
       "    <tr>\n",
       "      <th>1</th>\n",
       "      <td>2</td>\n",
       "      <td>13.328586</td>\n",
       "      <td>5.916844</td>\n",
       "      <td>1.0</td>\n",
       "      <td>14.138419</td>\n",
       "    </tr>\n",
       "    <tr>\n",
       "      <th>2</th>\n",
       "      <td>3</td>\n",
       "      <td>13.249325</td>\n",
       "      <td>5.786488</td>\n",
       "      <td>1.0</td>\n",
       "      <td>14.041317</td>\n",
       "    </tr>\n",
       "    <tr>\n",
       "      <th>3</th>\n",
       "      <td>4</td>\n",
       "      <td>13.763293</td>\n",
       "      <td>4.476519</td>\n",
       "      <td>1.0</td>\n",
       "      <td>14.375990</td>\n",
       "    </tr>\n",
       "    <tr>\n",
       "      <th>4</th>\n",
       "      <td>5</td>\n",
       "      <td>13.452335</td>\n",
       "      <td>5.157359</td>\n",
       "      <td>1.0</td>\n",
       "      <td>14.158218</td>\n",
       "    </tr>\n",
       "  </tbody>\n",
       "</table>\n",
       "</div>"
      ],
      "text/plain": [
       "   seed          d         b    k       exda\n",
       "0     1  13.540322  5.067846  1.0  14.233953\n",
       "1     2  13.328586  5.916844  1.0  14.138419\n",
       "2     3  13.249325  5.786488  1.0  14.041317\n",
       "3     4  13.763293  4.476519  1.0  14.375990\n",
       "4     5  13.452335  5.157359  1.0  14.158218"
      ]
     },
     "execution_count": 46,
     "metadata": {},
     "output_type": "execute_result"
    }
   ],
   "source": [
    "df.head()"
   ]
  },
  {
   "cell_type": "markdown",
   "metadata": {},
   "source": [
    "Now we can do all kinds of statistics, histograms, etc. for the fit parameters and the extrapolated DA"
   ]
  },
  {
   "cell_type": "code",
   "execution_count": 51,
   "metadata": {},
   "outputs": [
    {
     "data": {
      "image/png": "[encoded data removed]",
      "text/plain": [
       "<matplotlib.figure.Figure at 0x7fd4a35b9630>"
      ]
     },
     "metadata": {},
     "output_type": "display_data"
    }
   ],
   "source": [
    "fig = plt.figure(figsize=[12,10])\n",
    "ax1 = fig.add_subplot(221)\n",
    "ax2 = fig.add_subplot(222)\n",
    "ax3 = fig.add_subplot(223)\n",
    "ax4 = fig.add_subplot(224)\n",
    "\n",
    "df.exda.hist(ax=ax1,bins=10)\n",
    "df.d.hist(ax=ax2,bins=10)\n",
    "df.b.hist(ax=ax3,bins=10)\n",
    "df.k.hist(ax=ax4,bins=10)\n",
    "\n",
    "ax1.set_xlabel(r'Extr. DA after 30 min [$\\sigma$]')\n",
    "ax2.set_xlabel(r'$D_\\infty$')\n",
    "ax3.set_xlabel(r'$b$')\n",
    "ax4.set_xlabel(r'$\\kappa$')\n",
    "ax3.set_ylabel(r'Counts')\n",
    "ax1.set_ylabel('Counts')\n",
    "\n",
    "plt.show()"
   ]
  },
  {
   "cell_type": "markdown",
   "metadata": {},
   "source": [
    "## Analyze a set of studies\n",
    "\n",
    "Example: how does the extrapolated DA after 30min evolve with increasing octupole current?"
   ]
  },
  {
   "cell_type": "code",
   "execution_count": 74,
   "metadata": {
    "collapsed": true
   },
   "outputs": [],
   "source": [
    "data = []\n",
    "for ioct in range(0,44,4):\n",
    "    _dbname = '/home/phermes/development/SixDeskDB/chromB2_QP_0_OC_{0}.db'.format(ioct)\n",
    "    a  = davst(_dbname)\n",
    "    df = a.fitda(1,10,0.5,steps=1,verbose=False)\n",
    "    data.append([ioct, df.exda.min(), df.exda.max(), df.exda.mean()])\n",
    "data = pd.DataFrame(data,columns=['ioct','minda','maxda','meanda'])"
   ]
  },
  {
   "cell_type": "code",
   "execution_count": 73,
   "metadata": {},
   "outputs": [
    {
     "data": {
      "text/html": [
       "<div>\n",
       "<style>\n",
       "    .dataframe thead tr:only-child th {\n",
       "        text-align: right;\n",
       "    }\n",
       "\n",
       "    .dataframe thead th {\n",
       "        text-align: left;\n",
       "    }\n",
       "\n",
       "    .dataframe tbody tr th {\n",
       "        vertical-align: top;\n",
       "    }\n",
       "</style>\n",
       "<table border=\"1\" class=\"dataframe\">\n",
       "  <thead>\n",
       "    <tr style=\"text-align: right;\">\n",
       "      <th></th>\n",
       "      <th>ioct</th>\n",
       "      <th>minda</th>\n",
       "      <th>maxda</th>\n",
       "      <th>meanda</th>\n",
       "    </tr>\n",
       "  </thead>\n",
       "  <tbody>\n",
       "    <tr>\n",
       "      <th>0</th>\n",
       "      <td>0</td>\n",
       "      <td>14.649165</td>\n",
       "      <td>14.934160</td>\n",
       "      <td>14.797925</td>\n",
       "    </tr>\n",
       "    <tr>\n",
       "      <th>1</th>\n",
       "      <td>4</td>\n",
       "      <td>13.750822</td>\n",
       "      <td>14.349882</td>\n",
       "      <td>14.002430</td>\n",
       "    </tr>\n",
       "    <tr>\n",
       "      <th>2</th>\n",
       "      <td>8</td>\n",
       "      <td>11.917200</td>\n",
       "      <td>13.676935</td>\n",
       "      <td>12.962609</td>\n",
       "    </tr>\n",
       "    <tr>\n",
       "      <th>3</th>\n",
       "      <td>12</td>\n",
       "      <td>11.903029</td>\n",
       "      <td>13.828452</td>\n",
       "      <td>12.972118</td>\n",
       "    </tr>\n",
       "    <tr>\n",
       "      <th>4</th>\n",
       "      <td>16</td>\n",
       "      <td>10.466454</td>\n",
       "      <td>11.808988</td>\n",
       "      <td>11.097923</td>\n",
       "    </tr>\n",
       "  </tbody>\n",
       "</table>\n",
       "</div>"
      ],
      "text/plain": [
       "   ioct      minda      maxda     meanda\n",
       "0     0  14.649165  14.934160  14.797925\n",
       "1     4  13.750822  14.349882  14.002430\n",
       "2     8  11.917200  13.676935  12.962609\n",
       "3    12  11.903029  13.828452  12.972118\n",
       "4    16  10.466454  11.808988  11.097923"
      ]
     },
     "execution_count": 73,
     "metadata": {},
     "output_type": "execute_result"
    }
   ],
   "source": [
    "data.head()"
   ]
  },
  {
   "cell_type": "code",
   "execution_count": 72,
   "metadata": {},
   "outputs": [
    {
     "data": {
      "image/png": "[encoded data removed]",
      "text/plain": [
       "<matplotlib.figure.Figure at 0x7fd4a2121f60>"
      ]
     },
     "metadata": {},
     "output_type": "display_data"
    }
   ],
   "source": [
    "plt.errorbar(data.ioct,data.meanda,yerr=(data.meanda-data.minda,data.maxda-data.meanda),fmt='o-')\n",
    "plt.ylim(5,15)\n",
    "plt.xlabel('Octupole Current [A]')\n",
    "plt.ylabel(r'Extrapolated DA [$\\sigma$]')\n",
    "plt.grid()\n",
    "plt.title('Chromaticity=0')\n",
    "plt.show()"
   ]
  }
 ],
 "metadata": {
  "kernelspec": {
   "display_name": "Python 3",
   "language": "python",
   "name": "python3"
  },
  "language_info": {
   "codemirror_mode": {
    "name": "ipython",
    "version": 3
   },
   "file_extension": ".py",
   "mimetype": "text/x-python",
   "name": "python",
   "nbconvert_exporter": "python",
   "pygments_lexer": "ipython3",
   "version": "3.6.1"
  }
 },
 "nbformat": 4,
 "nbformat_minor": 2
}
