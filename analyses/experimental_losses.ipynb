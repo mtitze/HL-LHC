{
 "cells": [
  {
   "cell_type": "markdown",
   "metadata": {},
   "source": [
    "# Analysis of experimentally measured beam loss\n",
    "\n",
    "The beam loss at injection shall be compared to the theoretical expectation. \n",
    "\n",
    "Let $I_F$ be the intensity of the beam at time $T_F$ the end of INJECTION (beginning of PREPARE RAMP) and $\\Delta I_i$ the intensity injected at the injection step $i$. The time of injection at the step $i$ is denoted as $T_i$. Assuming that all losses are caused by dynamic aperture, the final intensity is related to the injected intensity as \n",
    "\n",
    "$$ I_F = 2 \\, \\sum_{i=0}^N \\, \\Delta I_i \\, \\int_{D(T_F-T_i)}^{\\infty} \\rho(x) \\, dx \\, ,$$\n",
    "\n",
    "where $\\rho(x)$ is the transverse particle distribution, $D(T_F-T_i)$ is the dynamic aperture for the injected bunch at the end of INJECTION and $N$ is the number of injection steps. We are interested in relative losses, so we are going to compare the quantity\n",
    "\n",
    "$$ r = \\frac{\\sum_i^N \\Delta I_i - I_F}{\\sum_i^N \\Delta I_i} \\, .$$"
   ]
  },
  {
   "cell_type": "code",
   "execution_count": 1,
   "metadata": {},
   "outputs": [],
   "source": [
    "import pandas as pd\n",
    "import numpy as np\n",
    "import matplotlib.pyplot as plt\n",
    "import pytimber as pt\n",
    "import time\n",
    "\n",
    "import sixdesk.dist as dist"
   ]
  },
  {
   "cell_type": "code",
   "execution_count": 2,
   "metadata": {
    "collapsed": true
   },
   "outputs": [],
   "source": [
    "class davsturn:\n",
    "    def __init__(self):\n",
    "        self.revf = 11245.5                                 # LHC revolution frequency        \n",
    "        pass\n",
    "    \n",
    "    def _get_turn_from_time(self,time):\n",
    "        '''returns the number of turns from the circulation time in seconds'''\n",
    "        return self.revf*60*60*time        \n",
    "    \n",
    "    def davst_function(self,time,d,b,k):\n",
    "        '''returns the DA as a function of time for a given set of function parameters'''\n",
    "        turn = self._get_turn_from_time(time)\n",
    "        return d + (b/(np.log10(turn)**k))  \n",
    "    \n",
    "    def davst_range(self,time,params):\n",
    "        '''Returns the minimum, maximum and mean DA for the given time with a set of parameters'''\n",
    "        data = self.davst_function(time,params['d'],params['b'],params['k'])\n",
    "        return data.min(),data.mean(),data.max()\n",
    "    \n",
    "    def get_beam_loss(self,time,params):\n",
    "        '''returns a range for the beam loss from the da distribution'''\n",
    "        data = self.davst_range(time,params)\n",
    "        import sixdesk.dist as dist\n",
    "\n",
    "        avgloss = dist.get_loss_from_da(data[1],which='mean')\n",
    "        maxloss = dist.get_loss_from_da(data[0],which='max')        \n",
    "        minloss = dist.get_loss_from_da(data[2],which='min')\n",
    "        \n",
    "        return minloss,avgloss,maxloss"
   ]
  },
  {
   "cell_type": "code",
   "execution_count": 3,
   "metadata": {
    "collapsed": true
   },
   "outputs": [],
   "source": [
    "hdf    = pd.HDFStore(\"da_results.h5\")\n",
    "params = hdf['lhc_b1_inj_exdafunc_qp_20_ioct_40']\n",
    "params = hdf['lhc_b2_inj_exdafunc_qp_20_ioct_40']\n",
    "\n",
    "fills  = pd.read_csv('fills_2016.csv',usecols=[0],names=['fill'],skiprows=1) # all fills in 2016 in stable beams\n",
    "fills  = np.array(fills['fill'])"
   ]
  },
  {
   "cell_type": "markdown",
   "metadata": {},
   "source": [
    "## Load the database and find variables if needed"
   ]
  },
  {
   "cell_type": "code",
   "execution_count": 4,
   "metadata": {},
   "outputs": [],
   "source": [
    "db = pt.LoggingDB()"
   ]
  },
  {
   "cell_type": "code",
   "execution_count": 10,
   "metadata": {},
   "outputs": [
    {
     "data": {
      "text/plain": [
       "[]"
      ]
     },
     "execution_count": 10,
     "metadata": {},
     "output_type": "execute_result"
    }
   ],
   "source": [
    "db.search(\"%OCTUP%\")"
   ]
  },
  {
   "cell_type": "code",
   "execution_count": 487,
   "metadata": {},
   "outputs": [
    {
     "data": {
      "text/plain": [
       "{u'LHC.BOFSU:CHROMA_B1_H': u'Beam 1 horizontal chromaticity'}"
      ]
     },
     "execution_count": 487,
     "metadata": {},
     "output_type": "execute_result"
    }
   ],
   "source": [
    "db.getDescription('LHC.BOFSU:CHROMA_B1_H')"
   ]
  },
  {
   "cell_type": "code",
   "execution_count": 5,
   "metadata": {
    "collapsed": true
   },
   "outputs": [],
   "source": [
    "b1intensity = 'LHC.BCTDC.A6R4.B1:BEAM_INTENSITY'\n",
    "b2intensity = 'LHC.BCTDC.B6R4.B2:BEAM_INTENSITY'\n",
    "lhc_energy  = 'LHC.BQSH.B1:ENERGY'\n",
    "beam_mode   = 'LHC.CISG.CCR.A:BEAM_MODE'\n",
    "chroma      = 'LHC.BOFSU:CHROMA_B1_H'"
   ]
  },
  {
   "cell_type": "code",
   "execution_count": 6,
   "metadata": {
    "collapsed": true
   },
   "outputs": [],
   "source": [
    "def get_injection_phases(fill_number):\n",
    "    data = db.getLHCFillData(fill_number)['beamModes']\n",
    "    for j in data:\n",
    "        if j['mode']=='INJPHYS':\n",
    "            return j['startTime'], j['endTime']"
   ]
  },
  {
   "cell_type": "code",
   "execution_count": 7,
   "metadata": {
    "collapsed": true
   },
   "outputs": [],
   "source": [
    "def _get_raw_injection_times(dataset,thresh=0.005e14):    \n",
    "    time_array, intensity_array = dataset\n",
    "    indices = np.diff(intensity_array)>thresh\n",
    "    indices = np.append(indices, False)\n",
    "    return time_array[indices], intensity_array[indices]\n",
    "\n",
    "def get_injection_times(dataset, thresh=0.005e14):\n",
    "    injection_times, injection_intensity = _get_raw_injection_times(dataset,thresh=thresh)\n",
    "    \n",
    "    steps_indices   = np.diff(injection_times)>2.      # use only steps which are more than 2 seconds apart from another\n",
    "    steps_indices   = np.append(steps_indices, True)\n",
    "    \n",
    "    injection_intensity = injection_intensity[steps_indices]\n",
    "    injection_times     = injection_times[steps_indices]\n",
    "    return injection_times, injection_intensity\n",
    "\n",
    "\n",
    "def get_delta_i(dataset):\n",
    "    time_steps, intensity_steps    = get_injection_times(dataset)\n",
    "    time_injection, data_injection = dataset\n",
    "    output = []\n",
    "    for n in range(len(time_steps)):\n",
    "        int_before_step = data_injection[time_injection <= time_steps[n]+5]\n",
    "        output.append([time_steps[n], intensity_steps[n], int_before_step[-1] - int_before_step[-10]])\n",
    "    return pd.DataFrame(output,columns=['time','intensity_before_injection','injected_intensity'])\n",
    "\n",
    "def get_experimental_beam_loss(dataset):\n",
    "    injected_beam = get_delta_i(dataset)\n",
    "    times_to_eoi  = get_time_to_prepare_ramp(dataset)\n",
    "    \n",
    "    return (injected_beam['injected_intensity'].sum()-dataset[1][-1])/injected_beam['injected_intensity'].sum()\n",
    "\n",
    "def get_time_to_prepare_ramp(dataset):\n",
    "    return dataset[0][-1] - get_delta_i(dataset)['time']\n",
    "    \n",
    "    \n",
    "def get_theoretical_loss(dataset):\n",
    "\n",
    "    d     = davsturn()\n",
    "    times = get_time_to_prepare_ramp(dataset)\n",
    "    steps = get_delta_i(dataset)['injected_intensity']\n",
    "\n",
    "    output = []\n",
    "    for i in range(len(times)):\n",
    "        ddd = d.get_beam_loss(times[i],params)\n",
    "        ddd = 1-np.array(ddd)\n",
    "        a, b, c = ddd\n",
    "        output.append([steps[i],a,b,c])\n",
    "    output = pd.DataFrame(output,columns=['step','min','mean','max'])\n",
    "    \n",
    "    minloss = (output['step'].sum()-(output['step']*output['min']).sum())/(output['step'].sum())\n",
    "    maxloss = (output['step'].sum()-(output['step']*output['max']).sum())/(output['step'].sum())\n",
    "    avgloss = (output['step'].sum()-(output['step']*output['mean']).sum())/(output['step'].sum())    \n",
    "    return minloss, avgloss, maxloss"
   ]
  },
  {
   "cell_type": "markdown",
   "metadata": {},
   "source": [
    "## Analyze the past runs \n",
    "### Beam 1"
   ]
  },
  {
   "cell_type": "code",
   "execution_count": 8,
   "metadata": {},
   "outputs": [
    {
     "name": "stderr",
     "output_type": "stream",
     "text": [
      "/home/phermes/anaconda3/envs/py27/lib/python2.7/site-packages/ipykernel_launcher.py:13: VisibleDeprecationWarning: boolean index did not match indexed array along dimension 0; dimension is 0 but corresponding boolean dimension is 1\n",
      "  del sys.path[0]\n"
     ]
    }
   ],
   "source": [
    "params = hdf['lhc_b1_inj_exdafunc_qp_20_ioct_40']\n",
    "\n",
    "output =[]\n",
    "for fill in fills:\n",
    "    try:\n",
    "        start, end      = get_injection_phases(fill)\n",
    "        data            = db.get([b1intensity],start,end)\n",
    "        experimental    = get_experimental_beam_loss(data[b1intensity])\n",
    "        tmin, tavg,tmax = get_theoretical_loss(data[b1intensity])\n",
    "        output.append([fill,experimental,tmin,tavg,tmax])\n",
    "    except IndexError:\n",
    "        pass\n",
    "output = pd.DataFrame(output,columns=['fill','experimental','tmin','tavg','tmax'])"
   ]
  },
  {
   "cell_type": "code",
   "execution_count": 9,
   "metadata": {
    "collapsed": true
   },
   "outputs": [],
   "source": [
    "output=output[(output['experimental']>0) & (output['experimental']<0.05)]"
   ]
  },
  {
   "cell_type": "code",
   "execution_count": 10,
   "metadata": {},
   "outputs": [
    {
     "data": {
      "image/png": "[encoded data removed]",
      "text/plain": [
       "<matplotlib.figure.Figure at 0x7fa2c8027bd0>"
      ]
     },
     "metadata": {},
     "output_type": "display_data"
    }
   ],
   "source": [
    "plt.hist(output['experimental'],bins=50)\n",
    "plt.axvline(0.0048,0,100,color='k')\n",
    "plt.axvline(0.011,0,100,color='k')\n",
    "plt.axvline(0.02635,0,100,color='k')\n",
    "plt.xlabel(\"Beam loss\")\n",
    "plt.ylabel(\"abundance\")\n",
    "plt.show()"
   ]
  },
  {
   "cell_type": "code",
   "execution_count": 11,
   "metadata": {
    "collapsed": true
   },
   "outputs": [],
   "source": [
    "perc = []\n",
    "for i in np.arange(0,100,0.1):\n",
    "    perc.append([i,np.percentile(output['experimental'],i)])\n",
    "perc = pd.DataFrame(perc,columns=['perc','quant'])"
   ]
  },
  {
   "cell_type": "code",
   "execution_count": 16,
   "metadata": {},
   "outputs": [
    {
     "data": {
      "image/png": "[encoded data removed]",
      "text/plain": [
       "<matplotlib.figure.Figure at 0x7fa10bfac710>"
      ]
     },
     "metadata": {},
     "output_type": "display_data"
    }
   ],
   "source": [
    "plt.plot(perc['quant'], perc['perc'],'-',color='orange')\n",
    "plt.axvline(0.0048,0,100,color='k')\n",
    "plt.axvline(0.011,0,100,color='k')\n",
    "plt.axvline(0.0264,0,100,color='k')\n",
    "plt.grid()\n",
    "plt.ylabel('Percentile')\n",
    "plt.xlabel('Beam loss')\n",
    "plt.text(0.0007,99,\"Prediction (min)\",rotation=90, bbox=dict(facecolor='blue', alpha=0.2))\n",
    "plt.text(0.012,40,\"Prediction (mean)\",rotation=90, bbox=dict(facecolor='blue', alpha=0.2))\n",
    "plt.text(0.028,40,\"Prediction (max)\",rotation=90, bbox=dict(facecolor='blue', alpha=0.2))\n",
    "\n",
    "# plt.xlim(0,0.01)\n",
    "plt.show()"
   ]
  },
  {
   "cell_type": "code",
   "execution_count": 24,
   "metadata": {},
   "outputs": [
    {
     "data": {
      "text/plain": [
       "count    562.00000\n",
       "mean      69.65000\n",
       "std       16.23797\n",
       "min       41.60000\n",
       "25%       55.62500\n",
       "50%       69.65000\n",
       "75%       83.67500\n",
       "max       97.70000\n",
       "Name: perc, dtype: float64"
      ]
     },
     "execution_count": 24,
     "metadata": {},
     "output_type": "execute_result"
    }
   ],
   "source": [
    "perc[(perc['quant']>0.0048) & (perc['quant']<0.0264)]['perc'].describe()"
   ]
  },
  {
   "cell_type": "markdown",
   "metadata": {},
   "source": [
    "56.1% of the data are inside the boundaries of the prediction"
   ]
  },
  {
   "cell_type": "markdown",
   "metadata": {},
   "source": [
    "### Beam 2"
   ]
  },
  {
   "cell_type": "code",
   "execution_count": 12,
   "metadata": {},
   "outputs": [
    {
     "name": "stderr",
     "output_type": "stream",
     "text": [
      "/home/phermes/anaconda3/envs/py27/lib/python2.7/site-packages/ipykernel_launcher.py:13: VisibleDeprecationWarning: boolean index did not match indexed array along dimension 0; dimension is 0 but corresponding boolean dimension is 1\n",
      "  del sys.path[0]\n"
     ]
    }
   ],
   "source": [
    "params = hdf['lhc_b2_inj_exdafunc_qp_20_ioct_40']\n",
    "\n",
    "output =[]\n",
    "for fill in fills:\n",
    "    try:\n",
    "        start, end      = get_injection_phases(fill)\n",
    "        data            = db.get([b2intensity],start,end)\n",
    "        experimental    = get_experimental_beam_loss(data[b2intensity])\n",
    "        tmin, tavg,tmax = get_theoretical_loss(data[b2intensity])\n",
    "        output.append([fill,experimental,tmin,tavg,tmax])\n",
    "    except IndexError:\n",
    "        pass\n",
    "output = pd.DataFrame(output,columns=['fill','experimental','tmin','tavg','tmax'])"
   ]
  },
  {
   "cell_type": "code",
   "execution_count": 14,
   "metadata": {},
   "outputs": [],
   "source": [
    "output=output[(output['experimental']>0) & (output['experimental']<0.05)]"
   ]
  },
  {
   "cell_type": "code",
   "execution_count": 17,
   "metadata": {},
   "outputs": [
    {
     "data": {
      "text/html": [
       "<div>\n",
       "<style>\n",
       "    .dataframe thead tr:only-child th {\n",
       "        text-align: right;\n",
       "    }\n",
       "\n",
       "    .dataframe thead th {\n",
       "        text-align: left;\n",
       "    }\n",
       "\n",
       "    .dataframe tbody tr th {\n",
       "        vertical-align: top;\n",
       "    }\n",
       "</style>\n",
       "<table border=\"1\" class=\"dataframe\">\n",
       "  <thead>\n",
       "    <tr style=\"text-align: right;\">\n",
       "      <th></th>\n",
       "      <th>fill</th>\n",
       "      <th>experimental</th>\n",
       "      <th>tmin</th>\n",
       "      <th>tavg</th>\n",
       "      <th>tmax</th>\n",
       "    </tr>\n",
       "  </thead>\n",
       "  <tbody>\n",
       "    <tr>\n",
       "      <th>0</th>\n",
       "      <td>5451</td>\n",
       "      <td>0.003505</td>\n",
       "      <td>0.000509</td>\n",
       "      <td>0.001789</td>\n",
       "      <td>0.008567</td>\n",
       "    </tr>\n",
       "    <tr>\n",
       "      <th>1</th>\n",
       "      <td>5450</td>\n",
       "      <td>0.003909</td>\n",
       "      <td>0.000509</td>\n",
       "      <td>0.001788</td>\n",
       "      <td>0.008530</td>\n",
       "    </tr>\n",
       "    <tr>\n",
       "      <th>2</th>\n",
       "      <td>5448</td>\n",
       "      <td>0.005585</td>\n",
       "      <td>0.000509</td>\n",
       "      <td>0.001790</td>\n",
       "      <td>0.008643</td>\n",
       "    </tr>\n",
       "    <tr>\n",
       "      <th>3</th>\n",
       "      <td>5446</td>\n",
       "      <td>0.001015</td>\n",
       "      <td>0.000509</td>\n",
       "      <td>0.001786</td>\n",
       "      <td>0.008445</td>\n",
       "    </tr>\n",
       "    <tr>\n",
       "      <th>4</th>\n",
       "      <td>5443</td>\n",
       "      <td>0.002801</td>\n",
       "      <td>0.000509</td>\n",
       "      <td>0.001791</td>\n",
       "      <td>0.008709</td>\n",
       "    </tr>\n",
       "  </tbody>\n",
       "</table>\n",
       "</div>"
      ],
      "text/plain": [
       "   fill  experimental      tmin      tavg      tmax\n",
       "0  5451      0.003505  0.000509  0.001789  0.008567\n",
       "1  5450      0.003909  0.000509  0.001788  0.008530\n",
       "2  5448      0.005585  0.000509  0.001790  0.008643\n",
       "3  5446      0.001015  0.000509  0.001786  0.008445\n",
       "4  5443      0.002801  0.000509  0.001791  0.008709"
      ]
     },
     "execution_count": 17,
     "metadata": {},
     "output_type": "execute_result"
    }
   ],
   "source": [
    "output.head()"
   ]
  },
  {
   "cell_type": "code",
   "execution_count": 39,
   "metadata": {},
   "outputs": [
    {
     "data": {
      "image/png": "[encoded data removed]",
      "text/plain": [
       "<matplotlib.figure.Figure at 0x7f6a5ffc9190>"
      ]
     },
     "metadata": {},
     "output_type": "display_data"
    }
   ],
   "source": [
    "plt.hist(output['experimental'],bins=60)\n",
    "plt.axvline(0.0005,0,100,color='k')\n",
    "plt.axvline(0.0017,0,100,color='k')\n",
    "plt.axvline(0.0085,0,100,color='k')\n",
    "plt.xlabel(\"Beam loss\")\n",
    "plt.ylabel(\"abundance\")\n",
    "plt.xlim(0,0.02)\n",
    "\n",
    "plt.show()"
   ]
  },
  {
   "cell_type": "code",
   "execution_count": 19,
   "metadata": {},
   "outputs": [
    {
     "data": {
      "text/html": [
       "<div>\n",
       "<style>\n",
       "    .dataframe thead tr:only-child th {\n",
       "        text-align: right;\n",
       "    }\n",
       "\n",
       "    .dataframe thead th {\n",
       "        text-align: left;\n",
       "    }\n",
       "\n",
       "    .dataframe tbody tr th {\n",
       "        vertical-align: top;\n",
       "    }\n",
       "</style>\n",
       "<table border=\"1\" class=\"dataframe\">\n",
       "  <thead>\n",
       "    <tr style=\"text-align: right;\">\n",
       "      <th></th>\n",
       "      <th>fill</th>\n",
       "      <th>experimental</th>\n",
       "      <th>tmin</th>\n",
       "      <th>tavg</th>\n",
       "      <th>tmax</th>\n",
       "    </tr>\n",
       "  </thead>\n",
       "  <tbody>\n",
       "    <tr>\n",
       "      <th>count</th>\n",
       "      <td>135.000000</td>\n",
       "      <td>135.000000</td>\n",
       "      <td>1.350000e+02</td>\n",
       "      <td>135.000000</td>\n",
       "      <td>135.000000</td>\n",
       "    </tr>\n",
       "    <tr>\n",
       "      <th>mean</th>\n",
       "      <td>5175.718519</td>\n",
       "      <td>0.004183</td>\n",
       "      <td>5.087246e-04</td>\n",
       "      <td>0.001790</td>\n",
       "      <td>0.008631</td>\n",
       "    </tr>\n",
       "    <tr>\n",
       "      <th>std</th>\n",
       "      <td>156.667089</td>\n",
       "      <td>0.005521</td>\n",
       "      <td>1.315193e-08</td>\n",
       "      <td>0.000001</td>\n",
       "      <td>0.000074</td>\n",
       "    </tr>\n",
       "    <tr>\n",
       "      <th>min</th>\n",
       "      <td>4895.000000</td>\n",
       "      <td>0.000086</td>\n",
       "      <td>5.086886e-04</td>\n",
       "      <td>0.001786</td>\n",
       "      <td>0.008445</td>\n",
       "    </tr>\n",
       "    <tr>\n",
       "      <th>25%</th>\n",
       "      <td>5054.000000</td>\n",
       "      <td>0.001164</td>\n",
       "      <td>5.087139e-04</td>\n",
       "      <td>0.001789</td>\n",
       "      <td>0.008573</td>\n",
       "    </tr>\n",
       "    <tr>\n",
       "      <th>50%</th>\n",
       "      <td>5169.000000</td>\n",
       "      <td>0.002128</td>\n",
       "      <td>5.087237e-04</td>\n",
       "      <td>0.001790</td>\n",
       "      <td>0.008617</td>\n",
       "    </tr>\n",
       "    <tr>\n",
       "      <th>75%</th>\n",
       "      <td>5276.500000</td>\n",
       "      <td>0.004993</td>\n",
       "      <td>5.087343e-04</td>\n",
       "      <td>0.001791</td>\n",
       "      <td>0.008680</td>\n",
       "    </tr>\n",
       "    <tr>\n",
       "      <th>max</th>\n",
       "      <td>5451.000000</td>\n",
       "      <td>0.039869</td>\n",
       "      <td>5.087686e-04</td>\n",
       "      <td>0.001795</td>\n",
       "      <td>0.008944</td>\n",
       "    </tr>\n",
       "  </tbody>\n",
       "</table>\n",
       "</div>"
      ],
      "text/plain": [
       "              fill  experimental          tmin        tavg        tmax\n",
       "count   135.000000    135.000000  1.350000e+02  135.000000  135.000000\n",
       "mean   5175.718519      0.004183  5.087246e-04    0.001790    0.008631\n",
       "std     156.667089      0.005521  1.315193e-08    0.000001    0.000074\n",
       "min    4895.000000      0.000086  5.086886e-04    0.001786    0.008445\n",
       "25%    5054.000000      0.001164  5.087139e-04    0.001789    0.008573\n",
       "50%    5169.000000      0.002128  5.087237e-04    0.001790    0.008617\n",
       "75%    5276.500000      0.004993  5.087343e-04    0.001791    0.008680\n",
       "max    5451.000000      0.039869  5.087686e-04    0.001795    0.008944"
      ]
     },
     "execution_count": 19,
     "metadata": {},
     "output_type": "execute_result"
    }
   ],
   "source": [
    "output.describe()"
   ]
  },
  {
   "cell_type": "code",
   "execution_count": 31,
   "metadata": {},
   "outputs": [],
   "source": [
    "perc = []\n",
    "for i in np.arange(0,100,0.1):\n",
    "    perc.append([i,np.percentile(output['experimental'],i)])\n",
    "perc = pd.DataFrame(perc,columns=['perc','quant'])"
   ]
  },
  {
   "cell_type": "code",
   "execution_count": 75,
   "metadata": {},
   "outputs": [
    {
     "data": {
      "image/png": "[encoded data removed]",
      "text/plain": [
       "<matplotlib.figure.Figure at 0x7f6a8ce86150>"
      ]
     },
     "metadata": {},
     "output_type": "display_data"
    }
   ],
   "source": [
    "plt.plot(perc['quant'], perc['perc'],'-',color='orange')\n",
    "plt.axvline(0.0005,0,100,color='k')\n",
    "plt.axvline(0.0017,0,100,color='k')\n",
    "plt.axvline(0.0085,0,100,color='k')\n",
    "plt.grid()\n",
    "plt.ylabel('Percentile')\n",
    "plt.xlabel('Beam loss')\n",
    "plt.text(0.0007,99,\"Prediction (min)\",rotation=90, bbox=dict(facecolor='blue', alpha=0.2))\n",
    "plt.text(0.0019,99,\"Prediction (mean)\",rotation=90, bbox=dict(facecolor='blue', alpha=0.2))\n",
    "plt.text(0.0088,40,\"Prediction (max)\",rotation=90, bbox=dict(facecolor='blue', alpha=0.2))\n",
    "\n",
    "plt.xlim(0,0.01)\n",
    "plt.show()"
   ]
  },
  {
   "cell_type": "markdown",
   "metadata": {},
   "source": [
    "90.5% of the values are inside the limits of the prediction."
   ]
  },
  {
   "cell_type": "code",
   "execution_count": null,
   "metadata": {
    "collapsed": true
   },
   "outputs": [],
   "source": []
  }
 ],
 "metadata": {
  "kernelspec": {
   "display_name": "Python 2",
   "language": "python",
   "name": "python2"
  },
  "language_info": {
   "codemirror_mode": {
    "name": "ipython",
    "version": 2
   },
   "file_extension": ".py",
   "mimetype": "text/x-python",
   "name": "python",
   "nbconvert_exporter": "python",
   "pygments_lexer": "ipython2",
   "version": "2.7.13"
  }
 },
 "nbformat": 4,
 "nbformat_minor": 2
}
