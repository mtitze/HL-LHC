{
 "cells": [
  {
   "cell_type": "markdown",
   "metadata": {},
   "source": [
    "# Scan over Chromaticity and Octupole Current\n",
    "Scan over different chromaticities and octupole currents for LHC and use the DA fitting method to extrapolate the DA to 30min. Also use the double Gaussian method to derive losses.\n",
    "\n",
    "\n",
    "## Initialization"
   ]
  },
  {
   "cell_type": "code",
   "execution_count": 2,
   "metadata": {
    "collapsed": true
   },
   "outputs": [],
   "source": [
    "import pandas as pd\n",
    "import numpy as np\n",
    "import matplotlib.pyplot as plt\n",
    "import matplotlib.cm as cm\n",
    "from matplotlib.colors import LogNorm\n",
    "\n",
    "\n",
    "import sixdesk.da as da\n",
    "import sixdesk.dist as dist\n",
    "\n",
    "\n",
    "def prepare_pcolormesh(df, x, y, z, weights=[1,1,1],offset=[0,0,0]):\n",
    "    \n",
    "    '''prepare the dataframe to obey the required shape in which no data is cut off\n",
    "    see https://github.com/matplotlib/basemap/issues/107\n",
    "    \n",
    "    Usage: prepare_pcolormesh(data, 'chroma', 'ioct', 'DA',weights=[1,1,100])\n",
    "    \n",
    "    The passed dataframe \"data\" must contain the columns 'chroma', 'ioct', 'DA'. \n",
    "    The weighting option will weight x,y,z accoring to their positional value in the parsed array.\n",
    "    Note that this algorithm does only work for equally spaced datasets.\n",
    "    '''\n",
    "    var1, var2 = x,y\n",
    "    \n",
    "    stepsize1 = np.diff(df[var1].unique()[-3:-1])[0]\n",
    "    stepsize2 = np.diff(df[var2].unique()[-3:-1])[0]\n",
    "\n",
    "    var1list  = np.append(np.unique(df[var1]), np.unique(df[var1])[-1]+stepsize1)\n",
    "    var2list  = np.append(np.unique(df[var2]), np.unique(df[var2])[-1]+stepsize2)\n",
    "    \n",
    "    newdf = pd.DataFrame()\n",
    "    for _v1 in var1list:\n",
    "        for _v2 in var2list:\n",
    "            if ((df[var1]==_v1) & (df[var2]==_v2)).any():\n",
    "                newdf = newdf.append(df[(df[var1]==_v1) & (df[var2]==_v2)])\n",
    "            else:\n",
    "                # create array of variable length\n",
    "                newrow = []\n",
    "                for c in df.columns:\n",
    "                    if c==var1:\n",
    "                        newrow.append(_v1)\n",
    "                    elif c==var2:\n",
    "                        newrow.append(_v2)\n",
    "                    else:\n",
    "                        # append the mean value to the placeholder, to have physically realistic data\n",
    "                        newrow.append(df[c].mean()) \n",
    "\n",
    "                # append to new dataframe\n",
    "                newdf = newdf.append(pd.DataFrame([newrow],columns=df.columns),ignore_index=True)\n",
    "                    \n",
    "    x = newdf[x].values*weights[0]+offset[0]\n",
    "    y = newdf[y].values*weights[1]+offset[1]\n",
    "    z = newdf[z].values*weights[2]+offset[2]\n",
    "    \n",
    "    x=np.unique(x)\n",
    "    y=np.unique(y)\n",
    "    X,Y = np.meshgrid(y,x)\n",
    "    Z   = z.reshape(len(x),len(y))\n",
    "    return Y,X,Z"
   ]
  },
  {
   "cell_type": "markdown",
   "metadata": {},
   "source": [
    "## Load the relevant data \n",
    "\n",
    "Load the from SixDeskDB and perform the fit of the da vs. turns for all studies. Also include the extrapolated DA after 30 minutes. This process may take a while."
   ]
  },
  {
   "cell_type": "code",
   "execution_count": 3,
   "metadata": {},
   "outputs": [
    {
     "name": "stderr",
     "output_type": "stream",
     "text": [
      "/home/phermes/anaconda3/lib/python3.6/site-packages/scipy/optimize/minpack.py:713: RuntimeWarning: divide by zero encountered in true_divide\n",
      "  transform = 1.0 / sigma\n",
      "/home/phermes/anaconda3/lib/python3.6/site-packages/scipy/optimize/minpack.py:779: OptimizeWarning: Covariance of the parameters could not be estimated\n",
      "  category=OptimizeWarning)\n"
     ]
    }
   ],
   "source": [
    "_data = []\n",
    "\n",
    "for _chroma in range(0,22,2):\n",
    "    for _ioct in range(0,44,4):\n",
    "        \n",
    "        _dbname   = '/home/phermes/development/SixDeskDB/chrom-{:2.1f}-{:2.1f}.db'.format(_chroma,_ioct)\n",
    "        try:\n",
    "            a         = da.davst(_dbname)\n",
    "            df        = a.fitda(1,10,0.5,steps=1,verbose=False)\n",
    "\n",
    "            _data.append([_chroma, _ioct, df.exda.min(), df.exda.max(), df.exda.mean()])\n",
    "        except:\n",
    "            _data.append([_chroma, _ioct, 0, 0, 0])\n",
    "data_B1 = pd.DataFrame(_data,columns=['chroma','ioct','minda','maxda','meanda'])        "
   ]
  },
  {
   "cell_type": "code",
   "execution_count": 4,
   "metadata": {},
   "outputs": [
    {
     "name": "stderr",
     "output_type": "stream",
     "text": [
      "/afs/cern.ch/work/p/phermes/private/HL-LHC/analyses/sixdesk/da.py:132: RuntimeWarning: divide by zero encountered in log10\n",
      "  return d + (b/(np.log10(x)**kappa))\n",
      "/home/phermes/anaconda3/lib/python3.6/site-packages/scipy/optimize/minpack.py:713: RuntimeWarning: divide by zero encountered in true_divide\n",
      "  transform = 1.0 / sigma\n",
      "/home/phermes/anaconda3/lib/python3.6/site-packages/scipy/optimize/minpack.py:779: OptimizeWarning: Covariance of the parameters could not be estimated\n",
      "  category=OptimizeWarning)\n"
     ]
    }
   ],
   "source": [
    "_data = []\n",
    "\n",
    "for _chroma in range(0,22,2):\n",
    "    for _ioct in range(0,44,4):\n",
    "        _dbname = '/home/phermes/development/SixDeskDB/chromB2_QP_{0}_OC_{1}.db'.format(_chroma,_ioct)\n",
    "        \n",
    "        try:\n",
    "            a     = da.davst(_dbname)\n",
    "            df    = a.fitda(1,10,0.5,steps=1,verbose=False)\n",
    "            _data.append([_chroma, _ioct, df.exda.min(), df.exda.max(), df.exda.mean()])\n",
    "        except:\n",
    "            _data.append([_chroma, _ioct, 0, 0, 0])\n",
    "data_B2 = pd.DataFrame(_data,columns=['chroma','ioct','minda','maxda','meanda'])"
   ]
  },
  {
   "cell_type": "markdown",
   "metadata": {},
   "source": [
    "## Calculate loss and emittance growth\n",
    "\n",
    "Calculate the emittance growth and assign to the dataframe"
   ]
  },
  {
   "cell_type": "code",
   "execution_count": 6,
   "metadata": {},
   "outputs": [],
   "source": [
    "def emittance_growth_gauss(d):\n",
    "    return (d**2*np.exp(-d**2/2))/(2*(1-np.exp(-d**2/2)))\n",
    "\n",
    "data_B1 = data_B1.assign(eg_mean=emittance_growth_gauss(data_B1.meanda))"
   ]
  },
  {
   "cell_type": "code",
   "execution_count": 7,
   "metadata": {
    "collapsed": true
   },
   "outputs": [],
   "source": [
    "data_B2 = data_B2.assign(eg_mean=emittance_growth_gauss(data_B2.meanda))"
   ]
  },
  {
   "cell_type": "markdown",
   "metadata": {},
   "source": [
    "calculate the particle losses and assign them to the dataframe"
   ]
  },
  {
   "cell_type": "code",
   "execution_count": 8,
   "metadata": {
    "collapsed": true
   },
   "outputs": [],
   "source": [
    "loss = []\n",
    "for _d in data_B1['meanda'].values:\n",
    "    loss.append(dist.get_loss_from_da(_d))\n",
    "loss = np.array(loss)\n",
    "data_B1 = data_B1.assign(avgloss=loss[:,2])"
   ]
  },
  {
   "cell_type": "code",
   "execution_count": 9,
   "metadata": {
    "collapsed": true
   },
   "outputs": [],
   "source": [
    "loss = []\n",
    "for _d in data_B2['meanda'].values:\n",
    "    loss.append(dist.get_loss_from_da(_d))\n",
    "loss = np.array(loss)\n",
    "data_B2 = data_B2.assign(avgloss=loss[:,2])"
   ]
  },
  {
   "cell_type": "markdown",
   "metadata": {},
   "source": [
    "## Plot the data"
   ]
  },
  {
   "cell_type": "code",
   "execution_count": 23,
   "metadata": {},
   "outputs": [
    {
     "data": {
      "image/png": "[encoded data removed]",
      "text/plain": [
       "<matplotlib.figure.Figure at 0x7f7e665d8a20>"
      ]
     },
     "metadata": {},
     "output_type": "display_data"
    }
   ],
   "source": [
    "loss_lim1, loss_lim2 = 1e-9, 1e0\n",
    "\n",
    "fig = plt.figure(figsize=[12,12])\n",
    "ax1 = fig.add_subplot(321)            \n",
    "ax2 = fig.add_subplot(322)            \n",
    "ax3 = fig.add_subplot(323)            \n",
    "ax4 = fig.add_subplot(324)  \n",
    "ax5 = fig.add_subplot(325)            \n",
    "ax6 = fig.add_subplot(326)  \n",
    "\n",
    "X,Y,Z = prepare_pcolormesh(data_B1, 'chroma','ioct','meanda',offset=[-1,-2,0])\n",
    "\n",
    "ax1.set_title('LHC Beam 1')\n",
    "ax1.set_xlabel(\"Chromaticity\")\n",
    "ax1.set_ylabel(\"Octupole Current [A]\")\n",
    "\n",
    "im1 = ax1.pcolormesh(X,Y,Z, cmap=cm.RdBu, vmin=3, vmax=16)\n",
    "fig.colorbar(im1,label=r'Mean DA after 30min [$\\sigma$]',ax=ax1)\n",
    "\n",
    "ax1.set_xticks(np.array(range(0,21,2)))\n",
    "ax1.set_yticks(np.array(range(0,41,4)))\n",
    "\n",
    "\n",
    "X,Y,Z = prepare_pcolormesh(data_B1, 'chroma','ioct','avgloss',offset=[-1,-2,0],weights=[1,1,100])\n",
    "\n",
    "ax3.set_xlabel(\"Chromaticity\")\n",
    "ax3.set_ylabel(\"Octupole Current [A]\")\n",
    "\n",
    "im3 = ax3.pcolormesh(X,Y,Z, cmap=cm.coolwarm, vmin=loss_lim1, vmax=loss_lim2,\n",
    "                                         norm=LogNorm(vmin=loss_lim1, vmax=loss_lim2))\n",
    "fig.colorbar(im3,label=r'Mean beam loss after 30min [$\\%$]',ax=ax3)\n",
    "\n",
    "ax3.set_xticks(np.array(range(0,21,2)))\n",
    "ax3.set_yticks(np.array(range(0,41,4)))\n",
    "\n",
    "\n",
    "X,Y,Z = prepare_pcolormesh(data_B1, 'chroma','ioct','eg_mean',offset=[-1,-2,0],weights=[1,1,100])\n",
    "\n",
    "ax5.set_xlabel(\"Chromaticity\")\n",
    "ax5.set_ylabel(\"Octupole Current [A]\")\n",
    "\n",
    "im5 = ax5.pcolormesh(X,Y,Z, cmap=cm.coolwarm, vmin=1e-24, vmax=1e-2,\n",
    "                                         norm=LogNorm(vmin=Z.min(), vmax=Z.max()))\n",
    "fig.colorbar(im5,label=r'Emittance growth after 30min [$\\%$]',ax=ax5)\n",
    "\n",
    "ax5.set_xticks(np.array(range(0,21,2)))\n",
    "ax5.set_yticks(np.array(range(0,41,4)))\n",
    "\n",
    "\n",
    "# BEAM 2\n",
    "\n",
    "X,Y,Z = prepare_pcolormesh(data_B2, 'chroma','ioct','meanda',offset=[-1,-2,0])\n",
    "\n",
    "ax2.set_title('LHC Beam 2')\n",
    "# ax2.set_xlabel(\"Chromaticity\")\n",
    "# ax2.set_ylabel(\"Octupole Current [A]\")\n",
    "\n",
    "im1 = ax2.pcolormesh(X,Y,Z, cmap=cm.RdBu, vmin=3, vmax=16)\n",
    "fig.colorbar(im1,label=r'Mean DA after 30min [$\\sigma$]',ax=ax2)\n",
    "\n",
    "ax2.set_xticks(np.array(range(0,21,2)))\n",
    "ax2.set_yticks(np.array(range(0,41,4)))\n",
    "\n",
    "\n",
    "X,Y,Z = prepare_pcolormesh(data_B2, 'chroma','ioct','avgloss',offset=[-1,-2,0],weights=[1,1,100])\n",
    "\n",
    "# ax4.set_xlabel(\"Chromaticity\")\n",
    "# ax4.set_ylabel(\"Octupole Current [A]\")\n",
    "\n",
    "im4 = ax4.pcolormesh(X,Y,Z, cmap=cm.coolwarm, vmin=loss_lim1, vmax=loss_lim2,\n",
    "                     norm=LogNorm(vmin=loss_lim1, vmax=loss_lim2))\n",
    "fig.colorbar(im4,label=r'Mean beam loss after 30min [$\\%$]',ax=ax4)\n",
    "\n",
    "ax4.set_xticks(np.array(range(0,21,2)))\n",
    "ax4.set_yticks(np.array(range(0,41,4)))\n",
    "\n",
    "\n",
    "X,Y,Z = prepare_pcolormesh(data_B2, 'chroma','ioct','eg_mean',offset=[-1,-2,0],weights=[1,1,100])\n",
    "\n",
    "ax6.set_xlabel(\"Chromaticity\")\n",
    "# ax6.set_ylabel(\"Octupole Current [A]\")\n",
    "\n",
    "im6 = ax6.pcolormesh(X,Y,Z, cmap=cm.coolwarm, vmin=1e-24, vmax=1e-2,\n",
    "                     norm=LogNorm(vmin=Z.min(), vmax=Z.max()))\n",
    "fig.colorbar(im6,label=r'Emittance growth after 30min [$\\%$]',ax=ax6)\n",
    "\n",
    "ax6.set_xticks(np.array(range(0,21,2)))\n",
    "ax6.set_yticks(np.array(range(0,41,4)))\n",
    "\n",
    "\n",
    "plt.show()"
   ]
  },
  {
   "cell_type": "code",
   "execution_count": null,
   "metadata": {
    "collapsed": true
   },
   "outputs": [],
   "source": []
  }
 ],
 "metadata": {
  "kernelspec": {
   "display_name": "Python 3",
   "language": "python",
   "name": "python3"
  },
  "language_info": {
   "codemirror_mode": {
    "name": "ipython",
    "version": 3
   },
   "file_extension": ".py",
   "mimetype": "text/x-python",
   "name": "python",
   "nbconvert_exporter": "python",
   "pygments_lexer": "ipython3",
   "version": "3.6.1"
  }
 },
 "nbformat": 4,
 "nbformat_minor": 2
}
