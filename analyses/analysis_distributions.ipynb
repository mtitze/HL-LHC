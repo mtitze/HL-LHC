{
 "cells": [
  {
   "cell_type": "markdown",
   "metadata": {},
   "source": [
    "# Transverse Beam Distribution \n",
    "\n",
    "The ultimate goal of the DA studies is to link dynamic aperture to losses in operation. This requires to work with a realistic beam distribution. A priori it is unknown which distribution is existing in the real machine. In [[1]], it is shown that between 1.9% and 3.6% of the beam content is at amplitudes of $4\\,\\sigma$. Thus, we want to find a distribution which is compatible with this demand. Hence, in this notebook we are evaluating the integral \n",
    "\n",
    "$$  T(\\mathcal{S}) = 2\\, \\int_{\\mathcal{S}}^{\\infty} \\rho(x) \\, dx \\, .$$\n",
    "\n",
    "Where $\\mathcal{S}$ is the lower bound of the amplitude at which the tail content should be considered (in the aforementioned example $4\\,\\sigma$ and $\\rho(x)$ is the transverse particle density function. The factor of two arises from the fact that the measurements are done with both collimator jaws, hence on both sides.\n",
    "\n",
    "[1]: http://cds.cern.ch/record/1447801/files/CERN-THESIS-2012-046.pdf?subformat=pdfa"
   ]
  },
  {
   "cell_type": "markdown",
   "metadata": {},
   "source": [
    "## Initialization"
   ]
  },
  {
   "cell_type": "code",
   "execution_count": 1,
   "metadata": {
    "collapsed": true
   },
   "outputs": [],
   "source": [
    "import numpy as np\n",
    "import matplotlib.pyplot as plt\n",
    "import matplotlib.cm as cm\n",
    "\n",
    "from scipy import integrate\n",
    "from scipy.special import erf, erfc\n",
    "\n",
    "import pandas as pd\n",
    "from pandas import HDFStore, DataFrame\n",
    "\n",
    "from sixdesk.da import * "
   ]
  },
  {
   "cell_type": "code",
   "execution_count": 2,
   "metadata": {
    "collapsed": true
   },
   "outputs": [],
   "source": [
    "def prepare_pcolormesh(x,y,z):\n",
    "    '''Preparing the colormesh for pcolormesh plot'''\n",
    "    x=np.unique(x)\n",
    "    y=np.unique(y)\n",
    "    X,Y = np.meshgrid(y,x)\n",
    "    Z   = z.reshape(len(x),len(y))\n",
    "    return Y,X,Z"
   ]
  },
  {
   "cell_type": "markdown",
   "metadata": {},
   "source": [
    "## Single Gaussian\n",
    "\n",
    "A single Gaussian distribution is given by:\n",
    "\n",
    "$$  \\rho_{G}(x) = \\frac{1}{\\sqrt{2 \\, \\pi} \\, \\sigma} \\, \\exp \\left( - \\frac{1}{2} \\left[\\frac{x-\\mu}{\\sigma}\\right]^2 \\right)  \\, .$$\n"
   ]
  },
  {
   "cell_type": "code",
   "execution_count": 3,
   "metadata": {
    "collapsed": true
   },
   "outputs": [],
   "source": [
    "def gaussian(x,mux,sigx):\n",
    "    '''Simple 1D Gaussian'''\n",
    "    return (1./(sigx*np.sqrt(2*np.pi))*np.exp(-(0.5)*((x-mux)/sigx)**2))\n",
    "\n",
    "def integrate_gauss(mux,sigx,boundaries,moment=0):\n",
    "    def g(x):\n",
    "        return gaussian(x,mux,sigx)*x**moment\n",
    "    \n",
    "    return integrate.nquad(g,boundaries)"
   ]
  },
  {
   "cell_type": "code",
   "execution_count": 4,
   "metadata": {},
   "outputs": [
    {
     "data": {
      "image/png": "[encoded data removed]",
      "text/plain": [
       "<matplotlib.figure.Figure at 0x7f47d8ea0390>"
      ]
     },
     "metadata": {},
     "output_type": "display_data"
    }
   ],
   "source": [
    "_x = np.arange(-4,4,0.1)\n",
    "plt.plot(_x,gaussian(_x,0,1))\n",
    "plt.xlabel(r'$x$')\n",
    "plt.ylabel(r'$G(x)$')\n",
    "plt.show()"
   ]
  },
  {
   "cell_type": "markdown",
   "metadata": {},
   "source": [
    "Check if the integral is 1 and the second order moment corresponds to $\\sigma^2$"
   ]
  },
  {
   "cell_type": "code",
   "execution_count": 28,
   "metadata": {},
   "outputs": [
    {
     "data": {
      "text/html": [
       "<div>\n",
       "<style>\n",
       "    .dataframe thead tr:only-child th {\n",
       "        text-align: right;\n",
       "    }\n",
       "\n",
       "    .dataframe thead th {\n",
       "        text-align: left;\n",
       "    }\n",
       "\n",
       "    .dataframe tbody tr th {\n",
       "        vertical-align: top;\n",
       "    }\n",
       "</style>\n",
       "<table border=\"1\" class=\"dataframe\">\n",
       "  <thead>\n",
       "    <tr style=\"text-align: right;\">\n",
       "      <th></th>\n",
       "      <th>sigma</th>\n",
       "      <th>integral</th>\n",
       "      <th>variance</th>\n",
       "    </tr>\n",
       "  </thead>\n",
       "  <tbody>\n",
       "    <tr>\n",
       "      <th>0</th>\n",
       "      <td>1</td>\n",
       "      <td>1.0</td>\n",
       "      <td>1.0</td>\n",
       "    </tr>\n",
       "    <tr>\n",
       "      <th>1</th>\n",
       "      <td>2</td>\n",
       "      <td>1.0</td>\n",
       "      <td>4.0</td>\n",
       "    </tr>\n",
       "    <tr>\n",
       "      <th>2</th>\n",
       "      <td>3</td>\n",
       "      <td>1.0</td>\n",
       "      <td>9.0</td>\n",
       "    </tr>\n",
       "  </tbody>\n",
       "</table>\n",
       "</div>"
      ],
      "text/plain": [
       "   sigma  integral  variance\n",
       "0      1       1.0       1.0\n",
       "1      2       1.0       4.0\n",
       "2      3       1.0       9.0"
      ]
     },
     "execution_count": 28,
     "metadata": {},
     "output_type": "execute_result"
    }
   ],
   "source": [
    "_data = []\n",
    "for _sigma in [1,2,3]:\n",
    "    _int = integrate_gauss(0,_sigma,[[-np.inf,np.inf]])\n",
    "    _std = integrate_gauss(0,_sigma,[[-np.inf,np.inf]],moment=2)\n",
    "    _data.append([_sigma,_int[0],_std[0]])\n",
    "\n",
    "pd.DataFrame(_data, columns=['sigma','integral','variance'])"
   ]
  },
  {
   "cell_type": "markdown",
   "metadata": {},
   "source": [
    "What is the tail content of a Gaussian distribution?"
   ]
  },
  {
   "cell_type": "code",
   "execution_count": 26,
   "metadata": {},
   "outputs": [
    {
     "data": {
      "text/plain": [
       "6.334248366041371e-05"
      ]
     },
     "execution_count": 26,
     "metadata": {},
     "output_type": "execute_result"
    }
   ],
   "source": [
    "2*integrate_gauss(0,1,[[4,np.inf]])[0]"
   ]
  },
  {
   "cell_type": "markdown",
   "metadata": {},
   "source": [
    "This is clearly incompatible with the boundaries set by the experiments. "
   ]
  },
  {
   "cell_type": "markdown",
   "metadata": {},
   "source": [
    "## Double Gaussian\n",
    "\n",
    "A double Gaussian consists of two superimposed Gaussians at different amplitudes:\n",
    "\n",
    "$$  \\rho_{DG}(x) = \\frac{A_1}{\\sqrt{2 \\, \\pi} \\, \\sigma_1} \\, \\exp \\left( - \\frac{1}{2} \\left[\\frac{x-\\mu_1}{\\sigma_1}\\right]^2 \\right) +  \\frac{A_2}{\\sqrt{2 \\, \\pi} \\, \\sigma_2} \\, \\exp \\left( - \\frac{1}{2} \\left[\\frac{x-\\mu_2}{\\sigma_2}\\right]^2 \\right) \\, .$$\n",
    "\n",
    "Normalization requires\n",
    "$$ A_1 + A_2 = 1$$\n",
    "\n",
    "The tail content function for the Double Gaussian yiels:\n",
    "    \n",
    "$$   T_{DG}(\\mathcal{S}) = 2 \\, \\int_{\\mathcal{S}}^{\\infty} \\rho_{DG} \\, dx = A_1 \\, \\left(1 + erf \\left[ \\frac{\\mu_1 - \\mathcal{S}}{\\sqrt{2} \\, \\sigma_1 } \\right] \\right) + (1 - A_1) \\, \\left(1 + erf \\left[ \\frac{\\mu_2 - \\mathcal{S}}{\\sqrt{2} \\, \\sigma_2 } \\right] \\right) \\, . $$\n",
    "\n",
    "Where $erf$ is the error function: \n",
    "\n",
    "$$   erf(x) = \\frac{2}{\\sqrt{\\pi}} \\, \\int_0^x \\exp \\left( -t^2 \\right) \\, dt \\, . $$"
   ]
  },
  {
   "cell_type": "code",
   "execution_count": 5,
   "metadata": {
    "collapsed": true
   },
   "outputs": [],
   "source": [
    "class dgauss:\n",
    "    '''Class to handle a double Gaussian distribution'''\n",
    "    def __init__(self,a1,sig1,sig2,a2=None,mux1=0,mux2=0):\n",
    "        if a2 is None:\n",
    "            a2 = 1-a1\n",
    "        \n",
    "        self.a1, self.a2, self.sig1, self.sig2, self.mux1, self.mux2 = a1,a2,sig1,sig2,mux1,mux2\n",
    "        self.std = self.integrate([[-np.inf,np.inf]],moment=2)**0.5\n",
    "        \n",
    "    def density(self,x):\n",
    "        '''Returns the probability density function value at the position x for the double Gaussian'''\n",
    "        return (self.a1*gaussian(x,self.mux1,self.sig1)+\n",
    "                self.a2*gaussian(x,self.mux2,self.sig2))\n",
    "    \n",
    "    def integrate(self,boundaries,moment=0):\n",
    "        '''Integrate the double Gaussian in the specified limits'''\n",
    "        def g(x):\n",
    "            return self.density(x)*x**moment\n",
    "        return integrate.nquad(g,boundaries)[0]\n",
    "    \n",
    "    def losses_above_nsig(self,nsig):\n",
    "        '''Return the tail content function from N sigma to infinity'''\n",
    "        return 2*self.integrate([[nsig*self.std,np.inf]])\n",
    "\n",
    "    def losses_above_nsig1(self,nsig):\n",
    "        '''Return the tail content function from N sigma1 to infinity'''\n",
    "        return 2*self.integrate([[nsig*self.sig1,np.inf]])\n",
    "    \n",
    "    def tailcontent(self,S):\n",
    "        return self.a1*(1+erf(-S/(np.sqrt(2)*self.sig1))) + self.a2*(1+erf(-S/(np.sqrt(2)*self.sig2)))    "
   ]
  },
  {
   "cell_type": "markdown",
   "metadata": {},
   "source": [
    "### Distribution Profile\n",
    "Check if the tails are more populated than with a simple Gaussian"
   ]
  },
  {
   "cell_type": "code",
   "execution_count": 6,
   "metadata": {
    "collapsed": true
   },
   "outputs": [],
   "source": [
    "d = dgauss(a1=0.915,sig1=1.0,sig2=4.0)"
   ]
  },
  {
   "cell_type": "code",
   "execution_count": 7,
   "metadata": {},
   "outputs": [
    {
     "data": {
      "image/png": "[encoded data removed]",
      "text/plain": [
       "<matplotlib.figure.Figure at 0x7f47d55aff98>"
      ]
     },
     "metadata": {},
     "output_type": "display_data"
    }
   ],
   "source": [
    "plt.plot(_x,d.density(_x),label='Double Gaussian')\n",
    "plt.plot(_x,gaussian(x=_x,sigx=1,mux=0), label='Gaussian')\n",
    "plt.legend()\n",
    "plt.xlabel(r'$x$')\n",
    "plt.ylabel(r'$\\rho(x)$')\n",
    "plt.show()"
   ]
  },
  {
   "cell_type": "markdown",
   "metadata": {},
   "source": [
    "### Tail content\n",
    "\n",
    "Using the analytical expression, the tail content of a double Gaussian can be calculated as a function of $\\sigma_2$ for\n",
    "\n",
    "$$ A_1 = 0.95 \\quad \\quad \\sigma_1 = 1 \\, .$$\n",
    "\n",
    "We compare with a numerical solution of the integral."
   ]
  },
  {
   "cell_type": "code",
   "execution_count": 9,
   "metadata": {},
   "outputs": [
    {
     "data": {
      "image/png": "[encoded data removed]",
      "text/plain": [
       "<matplotlib.figure.Figure at 0x7f47d37a6da0>"
      ]
     },
     "metadata": {},
     "output_type": "display_data"
    }
   ],
   "source": [
    "_data = []\n",
    "for i in np.arange(1,15,0.1):\n",
    "    d = dgauss(0.95,1.,i)\n",
    "    _data.append([i, d.losses_above_nsig1(4), d.tailcontent(4)])\n",
    "_data = pd.DataFrame(_data,columns=['x','numeric','analytic'])\n",
    "\n",
    "plt.plot(_data.x,_data['analytic']*100,label='Analytic')\n",
    "plt.plot(_data.x,_data['numeric']*100, label='Numeric')\n",
    "plt.xlabel(r'$\\sigma_2/\\sigma_1$')\n",
    "plt.ylabel(r'$T_{DG} (4 \\, \\sigma_1) [\\%]$')\n",
    "plt.legend()\n",
    "plt.show()"
   ]
  },
  {
   "cell_type": "markdown",
   "metadata": {},
   "source": [
    "Given the freedom in selecting the parameters $A_1$, $\\sigma_1$ and $\\sigma_2$, there is in principle an infinity of solutions matching the experimental findings \n",
    "\n",
    "$$1.9 \\% \\leq T(4\\,\\sigma) \\leq 3.6 \\%$$\n",
    "\n",
    "All solutions can be displayed in a heat map in the $\\sigma_2$, $A_2$ plane."
   ]
  },
  {
   "cell_type": "code",
   "execution_count": 13,
   "metadata": {
    "collapsed": true
   },
   "outputs": [],
   "source": [
    "_data = []\n",
    "for _a1 in np.arange(0.9,0.99,0.001):\n",
    "    for _sig2 in np.arange(1,20,0.1):\n",
    "        d = dgauss(a1=_a1, sig1=1, sig2=_sig2)       \n",
    "        _data.append([_a1,_sig2,d.tailcontent(4)])\n",
    "_data = pd.DataFrame(_data,columns=['a1','sig2','T'])"
   ]
  },
  {
   "cell_type": "code",
   "execution_count": 14,
   "metadata": {},
   "outputs": [
    {
     "data": {
      "image/png": "[encoded data removed]",
      "text/plain": [
       "<matplotlib.figure.Figure at 0x7f473874be48>"
      ]
     },
     "metadata": {},
     "output_type": "display_data"
    }
   ],
   "source": [
    "fig = plt.figure(figsize=[10,6])\n",
    "ax1 = fig.add_subplot(111)\n",
    "\n",
    "# prepare the colormes\n",
    "X,Y,Z = prepare_pcolormesh(_data['a1'].values, _data['sig2'].values, _data['T'].values*100)\n",
    "\n",
    "# plot the color mesh\n",
    "im1 = ax1.pcolormesh(X,Y,Z, cmap=cm.RdBu, vmin=Z.min(), vmax=Z.max())\n",
    "fig.colorbar(im1,label=r'$T(4\\,\\sigma_1)$ [%]')\n",
    "\n",
    "# plot the limiting lines for 1.9 and 3.6 %\n",
    "levels = np.array([1.9,3.6])\n",
    "CS = ax1.contour(X,Y,Z, colors=\"white\", levels=levels)\n",
    "ax1.clabel(CS, fontsize=9, inline=1)\n",
    "\n",
    "# ax1.set_ylim(1,5)\n",
    "ax1.set_xlabel(r\"$A_1$\")\n",
    "ax1.set_ylabel(r\"$\\sigma_2/\\sigma_1$\")\n",
    "plt.show()"
   ]
  },
  {
   "cell_type": "markdown",
   "metadata": {},
   "source": [
    "## Find solutions with $\\sigma_1 \\approx \\sigma$"
   ]
  },
  {
   "cell_type": "code",
   "execution_count": 34,
   "metadata": {},
   "outputs": [],
   "source": [
    "_data = []\n",
    "for _a1 in np.arange(0.9,0.99,0.001):\n",
    "    for _sig2 in np.arange(1,20,0.1):\n",
    "        d = dgauss(a1=_a1, sig1=1, sig2=_sig2)       \n",
    "        _data.append([_a1,_sig2,d.tailcontent(4),d.integrate(boundaries=[[-np.inf,np.inf]],moment=2)**0.5])"
   ]
  },
  {
   "cell_type": "code",
   "execution_count": 35,
   "metadata": {
    "collapsed": true
   },
   "outputs": [],
   "source": [
    "_data = pd.DataFrame(_data,columns=['a1','sig2','T','sig'])"
   ]
  },
  {
   "cell_type": "markdown",
   "metadata": {},
   "source": [
    "Select the solutions with the correct tail content."
   ]
  },
  {
   "cell_type": "code",
   "execution_count": 26,
   "metadata": {},
   "outputs": [],
   "source": [
    "dists = _data[(_data['T']>0.019) & (_data['T']<0.036)]"
   ]
  },
  {
   "cell_type": "code",
   "execution_count": 32,
   "metadata": {},
   "outputs": [
    {
     "data": {
      "image/png": "[encoded data removed]",
      "text/plain": [
       "<matplotlib.figure.Figure at 0x7f4699313eb8>"
      ]
     },
     "metadata": {},
     "output_type": "display_data"
    }
   ],
   "source": [
    "plt.hist(dists.sig,bins=100)\n",
    "plt.xlabel(r'$\\sigma_{DG}/\\sigma_1$')\n",
    "plt.ylabel('Count')\n",
    "plt.show()"
   ]
  },
  {
   "cell_type": "code",
   "execution_count": 36,
   "metadata": {},
   "outputs": [
    {
     "data": {
      "text/html": [
       "<div>\n",
       "<style>\n",
       "    .dataframe thead tr:only-child th {\n",
       "        text-align: right;\n",
       "    }\n",
       "\n",
       "    .dataframe thead th {\n",
       "        text-align: left;\n",
       "    }\n",
       "\n",
       "    .dataframe tbody tr th {\n",
       "        vertical-align: top;\n",
       "    }\n",
       "</style>\n",
       "<table border=\"1\" class=\"dataframe\">\n",
       "  <thead>\n",
       "    <tr style=\"text-align: right;\">\n",
       "      <th></th>\n",
       "      <th>a1</th>\n",
       "      <th>sig2</th>\n",
       "      <th>T</th>\n",
       "      <th>sig</th>\n",
       "    </tr>\n",
       "  </thead>\n",
       "  <tbody>\n",
       "    <tr>\n",
       "      <th>count</th>\n",
       "      <td>4335.000000</td>\n",
       "      <td>4335.000000</td>\n",
       "      <td>4335.000000</td>\n",
       "      <td>4335.000000</td>\n",
       "    </tr>\n",
       "    <tr>\n",
       "      <th>mean</th>\n",
       "      <td>0.953439</td>\n",
       "      <td>10.586805</td>\n",
       "      <td>0.027232</td>\n",
       "      <td>2.344031</td>\n",
       "    </tr>\n",
       "    <tr>\n",
       "      <th>std</th>\n",
       "      <td>0.017580</td>\n",
       "      <td>4.893203</td>\n",
       "      <td>0.004909</td>\n",
       "      <td>0.708876</td>\n",
       "    </tr>\n",
       "    <tr>\n",
       "      <th>min</th>\n",
       "      <td>0.900000</td>\n",
       "      <td>3.100000</td>\n",
       "      <td>0.019002</td>\n",
       "      <td>1.353366</td>\n",
       "    </tr>\n",
       "    <tr>\n",
       "      <th>25%</th>\n",
       "      <td>0.946000</td>\n",
       "      <td>6.100000</td>\n",
       "      <td>0.022951</td>\n",
       "      <td>1.713784</td>\n",
       "    </tr>\n",
       "    <tr>\n",
       "      <th>50%</th>\n",
       "      <td>0.958000</td>\n",
       "      <td>10.000000</td>\n",
       "      <td>0.027093</td>\n",
       "      <td>2.206971</td>\n",
       "    </tr>\n",
       "    <tr>\n",
       "      <th>75%</th>\n",
       "      <td>0.966000</td>\n",
       "      <td>14.800000</td>\n",
       "      <td>0.031441</td>\n",
       "      <td>2.900021</td>\n",
       "    </tr>\n",
       "    <tr>\n",
       "      <th>max</th>\n",
       "      <td>0.977000</td>\n",
       "      <td>19.900000</td>\n",
       "      <td>0.035995</td>\n",
       "      <td>4.194093</td>\n",
       "    </tr>\n",
       "  </tbody>\n",
       "</table>\n",
       "</div>"
      ],
      "text/plain": [
       "                a1         sig2            T          sig\n",
       "count  4335.000000  4335.000000  4335.000000  4335.000000\n",
       "mean      0.953439    10.586805     0.027232     2.344031\n",
       "std       0.017580     4.893203     0.004909     0.708876\n",
       "min       0.900000     3.100000     0.019002     1.353366\n",
       "25%       0.946000     6.100000     0.022951     1.713784\n",
       "50%       0.958000    10.000000     0.027093     2.206971\n",
       "75%       0.966000    14.800000     0.031441     2.900021\n",
       "max       0.977000    19.900000     0.035995     4.194093"
      ]
     },
     "execution_count": 36,
     "metadata": {},
     "output_type": "execute_result"
    }
   ],
   "source": [
    "dists.describe()"
   ]
  },
  {
   "cell_type": "markdown",
   "metadata": {},
   "source": [
    "## Relation to Dynamic Aperture\n",
    "\n",
    "With the data available from the measurements, all distributions with parameters in between the white lines are equally probable. If we want to relate dynamic aperture to beam loss we must take into account a representative set of the possible beam distributions and the beam loss as a function of the DA becomes a distribution as well."
   ]
  },
  {
   "cell_type": "code",
   "execution_count": 39,
   "metadata": {
    "collapsed": true
   },
   "outputs": [],
   "source": [
    "# this dataframe contains all possible (phyical) solutions in the scanned range\n",
    "\n",
    "_data = _data[(_data['T']>1.9e-2) & (_data['T']<3.6e-2) & (_data['sig']<1.4)]         "
   ]
  },
  {
   "cell_type": "code",
   "execution_count": 42,
   "metadata": {},
   "outputs": [
    {
     "data": {
      "image/png": "[encoded data removed]",
      "text/plain": [
       "<matplotlib.figure.Figure at 0x7f45da71dac8>"
      ]
     },
     "metadata": {},
     "output_type": "display_data"
    }
   ],
   "source": [
    "fig = plt.figure(figsize=[10,7])\n",
    "ax1 = fig.add_subplot(221)\n",
    "ax2 = fig.add_subplot(222)\n",
    "ax3 = fig.add_subplot(223)\n",
    "# ax4 = fig.add_subplot(224)\n",
    "\n",
    "ax1.hist(_data.a1,bins=10)\n",
    "ax2.hist(_data.sig2,bins=10)\n",
    "ax3.hist(_data['T']*100,bins=10)\n",
    "\n",
    "ax1.set_xlabel(r'$A_1$')\n",
    "ax2.set_xlabel(r'$\\sigma_2$')\n",
    "ax3.set_xlabel(r'$T [\\%]$')\n",
    "\n",
    "for ax in [ax1,ax3]:\n",
    "    ax.set_ylabel('Counts')\n",
    "\n",
    "plt.show()"
   ]
  },
  {
   "cell_type": "markdown",
   "metadata": {},
   "source": [
    "The loss $L$ as a function of the dynamic aperture $D$ for a given double Gaussian distribution, defined by $A_1,\\sigma_2$, is given by the integral:\n",
    "\n",
    "$$ L(D,A_1,\\sigma_2) = 2 \\, \\int_{D}^{\\infty} \\rho_{DG}(x,A_1,\\sigma_2) dx .$$\n",
    "With the distribution of double Gaussian parameters, we can deduce a range of possible loss values as a function of the dynamic aperture:"
   ]
  },
  {
   "cell_type": "code",
   "execution_count": 51,
   "metadata": {
    "collapsed": true
   },
   "outputs": [],
   "source": [
    "physical_dgauss_params = _data    # assign the set of physical dgaussian functions to a new variable"
   ]
  },
  {
   "cell_type": "code",
   "execution_count": 44,
   "metadata": {
    "collapsed": true
   },
   "outputs": [],
   "source": [
    "def get_loss_from_da(da):\n",
    "    '''Returns the minimum,maximum and mean expectable loss for a given DA'''\n",
    "    \n",
    "    loss = []\n",
    "    for _, line in physical_dgauss_params.head().iterrows():\n",
    "        _a1, _sig2 = line['a1'], line['sig2']\n",
    "        \n",
    "        # initialize the gaussian\n",
    "        dg = dgauss(a1=_a1,sig1=1,sig2=_sig2)\n",
    "        \n",
    "        # append the relevant quantities\n",
    "        loss.append([_a1,_sig2,dg.integrate([[da,np.inf]])])\n",
    "        \n",
    "    loss = pd.DataFrame(loss,columns=['a1','sig2','loss'])\n",
    "    \n",
    "    return loss.loss.min(), loss.loss.max(), loss.loss.mean()"
   ]
  },
  {
   "cell_type": "code",
   "execution_count": 45,
   "metadata": {
    "collapsed": true
   },
   "outputs": [],
   "source": [
    "_losses = []\n",
    "for _da in np.arange(1,12,0.1):\n",
    "    _minl, _maxl, _avgl = get_loss_from_da(_da)\n",
    "    _losses.append([_da, _minl, _maxl, _avgl])\n",
    "_losses = pd.DataFrame(_losses, columns=['da','minl','maxl','avgl'])"
   ]
  },
  {
   "cell_type": "code",
   "execution_count": 46,
   "metadata": {},
   "outputs": [
    {
     "data": {
      "image/png": "[encoded data removed]",
      "text/plain": [
       "<matplotlib.figure.Figure at 0x7f45d74e5d30>"
      ]
     },
     "metadata": {},
     "output_type": "display_data"
    }
   ],
   "source": [
    "plt.plot(_losses.da,_losses.minl*1e2,label='Min. loss')\n",
    "plt.plot(_losses.da,_losses.maxl*1e2,label='Max. loss')\n",
    "plt.xlabel(r'DA [$\\sigma$]')\n",
    "plt.ylabel(r'Loss [$\\%$]')\n",
    "plt.yscale('log')\n",
    "plt.grid()\n",
    "plt.legend()\n",
    "plt.show()"
   ]
  },
  {
   "cell_type": "markdown",
   "metadata": {},
   "source": [
    "With this curve, the DA can be related to losses. Let's save the dataframe to an HDF file to be able to use it afterwards."
   ]
  },
  {
   "cell_type": "code",
   "execution_count": 52,
   "metadata": {},
   "outputs": [],
   "source": [
    "hdf = pd.HDFStore('../modules/sixdesk/distributions.h5')\n",
    "hdf.put('physical_dgauss_params',physical_dgauss_params,format='table',data_columns=True)\n",
    "hdf.close()"
   ]
  },
  {
   "cell_type": "markdown",
   "metadata": {},
   "source": [
    "The parameters for the physical beam distributions can be loaded from this HDF file."
   ]
  },
  {
   "cell_type": "code",
   "execution_count": 54,
   "metadata": {},
   "outputs": [],
   "source": [
    "hdf = pd.HDFStore('../modules/sixdesk/distributions.h5')"
   ]
  },
  {
   "cell_type": "code",
   "execution_count": 55,
   "metadata": {},
   "outputs": [
    {
     "data": {
      "text/html": [
       "<div>\n",
       "<style>\n",
       "    .dataframe thead tr:only-child th {\n",
       "        text-align: right;\n",
       "    }\n",
       "\n",
       "    .dataframe thead th {\n",
       "        text-align: left;\n",
       "    }\n",
       "\n",
       "    .dataframe tbody tr th {\n",
       "        vertical-align: top;\n",
       "    }\n",
       "</style>\n",
       "<table border=\"1\" class=\"dataframe\">\n",
       "  <thead>\n",
       "    <tr style=\"text-align: right;\">\n",
       "      <th></th>\n",
       "      <th>a1</th>\n",
       "      <th>sig2</th>\n",
       "      <th>T</th>\n",
       "      <th>sig</th>\n",
       "    </tr>\n",
       "  </thead>\n",
       "  <tbody>\n",
       "    <tr>\n",
       "      <th>21</th>\n",
       "      <td>0.900</td>\n",
       "      <td>3.1</td>\n",
       "      <td>0.019751</td>\n",
       "      <td>1.364185</td>\n",
       "    </tr>\n",
       "    <tr>\n",
       "      <th>22</th>\n",
       "      <td>0.900</td>\n",
       "      <td>3.2</td>\n",
       "      <td>0.021187</td>\n",
       "      <td>1.387083</td>\n",
       "    </tr>\n",
       "    <tr>\n",
       "      <th>211</th>\n",
       "      <td>0.901</td>\n",
       "      <td>3.1</td>\n",
       "      <td>0.019554</td>\n",
       "      <td>1.361025</td>\n",
       "    </tr>\n",
       "    <tr>\n",
       "      <th>212</th>\n",
       "      <td>0.901</td>\n",
       "      <td>3.2</td>\n",
       "      <td>0.020976</td>\n",
       "      <td>1.383749</td>\n",
       "    </tr>\n",
       "    <tr>\n",
       "      <th>401</th>\n",
       "      <td>0.902</td>\n",
       "      <td>3.1</td>\n",
       "      <td>0.019357</td>\n",
       "      <td>1.357859</td>\n",
       "    </tr>\n",
       "  </tbody>\n",
       "</table>\n",
       "</div>"
      ],
      "text/plain": [
       "        a1  sig2         T       sig\n",
       "21   0.900   3.1  0.019751  1.364185\n",
       "22   0.900   3.2  0.021187  1.387083\n",
       "211  0.901   3.1  0.019554  1.361025\n",
       "212  0.901   3.2  0.020976  1.383749\n",
       "401  0.902   3.1  0.019357  1.357859"
      ]
     },
     "execution_count": 55,
     "metadata": {},
     "output_type": "execute_result"
    }
   ],
   "source": [
    "hdf['physical_dgauss_params'].head()"
   ]
  },
  {
   "cell_type": "markdown",
   "metadata": {},
   "source": [
    "# Usage in other python scripts"
   ]
  },
  {
   "cell_type": "code",
   "execution_count": 56,
   "metadata": {
    "collapsed": true
   },
   "outputs": [],
   "source": [
    "import sixdesk.dist as dist"
   ]
  },
  {
   "cell_type": "code",
   "execution_count": 57,
   "metadata": {},
   "outputs": [
    {
     "data": {
      "text/plain": [
       "(6.1552954583822845e-05, 8.890253006463167e-05, 7.26918345399997e-05)"
      ]
     },
     "execution_count": 57,
     "metadata": {},
     "output_type": "execute_result"
    }
   ],
   "source": [
    "dist.get_loss_from_da(10)"
   ]
  }
 ],
 "metadata": {
  "kernelspec": {
   "display_name": "Python 3",
   "language": "python",
   "name": "python3"
  },
  "language_info": {
   "codemirror_mode": {
    "name": "ipython",
    "version": 3
   },
   "file_extension": ".py",
   "mimetype": "text/x-python",
   "name": "python",
   "nbconvert_exporter": "python",
   "pygments_lexer": "ipython3",
   "version": "3.6.1"
  }
 },
 "nbformat": 4,
 "nbformat_minor": 2
}
